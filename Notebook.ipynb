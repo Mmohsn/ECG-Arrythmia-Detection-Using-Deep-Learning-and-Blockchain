{
 "cells": [
  {
   "cell_type": "markdown",
   "metadata": {
    "id": "wSrH4cYjc27m"
   },
   "source": [
    "# **Download Dataset From Kaggle to Colab**"
   ]
  },
  {
   "cell_type": "code",
   "execution_count": null,
   "metadata": {
    "colab": {
     "base_uri": "https://localhost:8080/"
    },
    "id": "lONq9ShWkiL8",
    "outputId": "26502fa1-fa85-4920-b179-ba26b969d3d2"
   },
   "outputs": [
    {
     "name": "stdout",
     "output_type": "stream",
     "text": [
      "Drive already mounted at /content/drive; to attempt to forcibly remount, call drive.mount(\"/content/drive\", force_remount=True).\n"
     ]
    }
   ],
   "source": [
    "from google.colab import drive\n",
    "drive.mount('/content/drive')"
   ]
  },
  {
   "cell_type": "code",
   "execution_count": 3,
   "metadata": {
    "id": "9Ff_qjC3ULW8"
   },
   "outputs": [],
   "source": [
    "!pip install -q kaggle"
   ]
  },
  {
   "cell_type": "code",
   "execution_count": 4,
   "metadata": {
    "id": "zMETWjitUqGO"
   },
   "outputs": [],
   "source": [
    "!mkdir -p ~/.kaggle"
   ]
  },
  {
   "cell_type": "code",
   "execution_count": 5,
   "metadata": {
    "id": "17z3XulGUvP0"
   },
   "outputs": [],
   "source": [
    "!cp kaggle.json ~/.kaggle"
   ]
  },
  {
   "cell_type": "code",
   "execution_count": 6,
   "metadata": {
    "id": "cH_XbXzfUwyn"
   },
   "outputs": [],
   "source": [
    "!chmod 600 ~/.kaggle/kaggle.json"
   ]
  },
  {
   "cell_type": "code",
   "execution_count": 7,
   "metadata": {
    "colab": {
     "base_uri": "https://localhost:8080/"
    },
    "id": "J7PXHnZiUx0W",
    "outputId": "549fa20e-8fcc-4ca3-949a-d8e308fc4515"
   },
   "outputs": [
    {
     "name": "stdout",
     "output_type": "stream",
     "text": [
      "Downloading heartbeat.zip to /content\n",
      " 85% 84.0M/98.8M [00:00<00:00, 161MB/s]\n",
      "100% 98.8M/98.8M [00:00<00:00, 167MB/s]\n"
     ]
    }
   ],
   "source": [
    "!kaggle datasets download -d shayanfazeli/heartbeat"
   ]
  },
  {
   "cell_type": "code",
   "execution_count": 8,
   "metadata": {
    "colab": {
     "base_uri": "https://localhost:8080/"
    },
    "id": "cK6ID5iAU2jT",
    "outputId": "53e20d8f-070e-444e-af9a-f5c7a57c804c"
   },
   "outputs": [
    {
     "name": "stdout",
     "output_type": "stream",
     "text": [
      "Done\n"
     ]
    }
   ],
   "source": [
    "from zipfile import ZipFile\n",
    "file = 'heartbeat.zip'\n",
    "with ZipFile(file, 'r') as zip:\n",
    "  zip.extractall()\n",
    "  print('Done')"
   ]
  },
  {
   "cell_type": "markdown",
   "metadata": {
    "id": "eOEedg3fc_TA"
   },
   "source": [
    "# **Import Libraries**"
   ]
  },
  {
   "cell_type": "code",
   "execution_count": 11,
   "metadata": {
    "id": "2w9-KGjwU_gc"
   },
   "outputs": [],
   "source": [
    "from keras import Sequential\n",
    "from keras.layers import Conv1D , MaxPool1D , Flatten , Dense , Dropout\n",
    "import pandas as pd\n",
    "import numpy as np\n",
    "import matplotlib.pyplot as plt\n",
    "from sklearn.model_selection import train_test_split\n",
    "import seaborn as sns\n",
    "from sklearn.metrics import confusion_matrix, accuracy_score"
   ]
  },
  {
   "cell_type": "markdown",
   "metadata": {
    "id": "g0T8J8OTdK_W"
   },
   "source": [
    "# **Read Training Dataset**"
   ]
  },
  {
   "cell_type": "code",
   "execution_count": null,
   "metadata": {
    "id": "GZc_mPOkVFKg"
   },
   "outputs": [],
   "source": [
    "train_data = pd.read_csv('/content/mitbih_train.csv', header=None)"
   ]
  },
  {
   "cell_type": "markdown",
   "metadata": {
    "id": "rtYOnkQSdWdA"
   },
   "source": [
    "# **Data Preprocessing**"
   ]
  },
  {
   "cell_type": "code",
   "execution_count": null,
   "metadata": {
    "colab": {
     "base_uri": "https://localhost:8080/"
    },
    "id": "oWCMT4_KVMc8",
    "outputId": "23e878e2-a6a4-46ff-aee6-dd21cf3f8ea2"
   },
   "outputs": [
    {
     "data": {
      "text/html": [
       "<div>\n",
       "<style scoped>\n",
       "    .dataframe tbody tr th:only-of-type {\n",
       "        vertical-align: middle;\n",
       "    }\n",
       "\n",
       "    .dataframe tbody tr th {\n",
       "        vertical-align: top;\n",
       "    }\n",
       "\n",
       "    .dataframe thead th {\n",
       "        text-align: right;\n",
       "    }\n",
       "</style>\n",
       "<table border=\"1\" class=\"dataframe\">\n",
       "  <thead>\n",
       "    <tr style=\"text-align: right;\">\n",
       "      <th></th>\n",
       "      <th>0</th>\n",
       "      <th>1</th>\n",
       "      <th>2</th>\n",
       "      <th>3</th>\n",
       "      <th>4</th>\n",
       "      <th>5</th>\n",
       "      <th>6</th>\n",
       "      <th>7</th>\n",
       "      <th>8</th>\n",
       "      <th>9</th>\n",
       "      <th>10</th>\n",
       "      <th>11</th>\n",
       "      <th>12</th>\n",
       "      <th>13</th>\n",
       "      <th>14</th>\n",
       "      <th>15</th>\n",
       "      <th>16</th>\n",
       "      <th>17</th>\n",
       "      <th>18</th>\n",
       "      <th>19</th>\n",
       "      <th>20</th>\n",
       "      <th>21</th>\n",
       "      <th>22</th>\n",
       "      <th>23</th>\n",
       "      <th>24</th>\n",
       "      <th>25</th>\n",
       "      <th>26</th>\n",
       "      <th>27</th>\n",
       "      <th>28</th>\n",
       "      <th>29</th>\n",
       "      <th>30</th>\n",
       "      <th>31</th>\n",
       "      <th>32</th>\n",
       "      <th>33</th>\n",
       "      <th>34</th>\n",
       "      <th>35</th>\n",
       "      <th>36</th>\n",
       "      <th>37</th>\n",
       "      <th>38</th>\n",
       "      <th>39</th>\n",
       "      <th>...</th>\n",
       "      <th>148</th>\n",
       "      <th>149</th>\n",
       "      <th>150</th>\n",
       "      <th>151</th>\n",
       "      <th>152</th>\n",
       "      <th>153</th>\n",
       "      <th>154</th>\n",
       "      <th>155</th>\n",
       "      <th>156</th>\n",
       "      <th>157</th>\n",
       "      <th>158</th>\n",
       "      <th>159</th>\n",
       "      <th>160</th>\n",
       "      <th>161</th>\n",
       "      <th>162</th>\n",
       "      <th>163</th>\n",
       "      <th>164</th>\n",
       "      <th>165</th>\n",
       "      <th>166</th>\n",
       "      <th>167</th>\n",
       "      <th>168</th>\n",
       "      <th>169</th>\n",
       "      <th>170</th>\n",
       "      <th>171</th>\n",
       "      <th>172</th>\n",
       "      <th>173</th>\n",
       "      <th>174</th>\n",
       "      <th>175</th>\n",
       "      <th>176</th>\n",
       "      <th>177</th>\n",
       "      <th>178</th>\n",
       "      <th>179</th>\n",
       "      <th>180</th>\n",
       "      <th>181</th>\n",
       "      <th>182</th>\n",
       "      <th>183</th>\n",
       "      <th>184</th>\n",
       "      <th>185</th>\n",
       "      <th>186</th>\n",
       "      <th>187</th>\n",
       "    </tr>\n",
       "  </thead>\n",
       "  <tbody>\n",
       "    <tr>\n",
       "      <th>0</th>\n",
       "      <td>0.977941</td>\n",
       "      <td>0.926471</td>\n",
       "      <td>0.681373</td>\n",
       "      <td>0.245098</td>\n",
       "      <td>0.154412</td>\n",
       "      <td>0.191176</td>\n",
       "      <td>0.151961</td>\n",
       "      <td>0.085784</td>\n",
       "      <td>0.058824</td>\n",
       "      <td>0.049020</td>\n",
       "      <td>0.044118</td>\n",
       "      <td>0.061275</td>\n",
       "      <td>0.066176</td>\n",
       "      <td>0.061275</td>\n",
       "      <td>0.049020</td>\n",
       "      <td>0.073529</td>\n",
       "      <td>0.061275</td>\n",
       "      <td>0.061275</td>\n",
       "      <td>0.066176</td>\n",
       "      <td>0.068627</td>\n",
       "      <td>0.095588</td>\n",
       "      <td>0.075980</td>\n",
       "      <td>0.093137</td>\n",
       "      <td>0.105392</td>\n",
       "      <td>0.115196</td>\n",
       "      <td>0.102941</td>\n",
       "      <td>0.117647</td>\n",
       "      <td>0.125000</td>\n",
       "      <td>0.142157</td>\n",
       "      <td>0.127451</td>\n",
       "      <td>0.151961</td>\n",
       "      <td>0.144608</td>\n",
       "      <td>0.164216</td>\n",
       "      <td>0.144608</td>\n",
       "      <td>0.159314</td>\n",
       "      <td>0.151961</td>\n",
       "      <td>0.154412</td>\n",
       "      <td>0.142157</td>\n",
       "      <td>0.151961</td>\n",
       "      <td>0.151961</td>\n",
       "      <td>...</td>\n",
       "      <td>0.0</td>\n",
       "      <td>0.0</td>\n",
       "      <td>0.0</td>\n",
       "      <td>0.0</td>\n",
       "      <td>0.0</td>\n",
       "      <td>0.0</td>\n",
       "      <td>0.0</td>\n",
       "      <td>0.0</td>\n",
       "      <td>0.0</td>\n",
       "      <td>0.0</td>\n",
       "      <td>0.0</td>\n",
       "      <td>0.0</td>\n",
       "      <td>0.0</td>\n",
       "      <td>0.0</td>\n",
       "      <td>0.0</td>\n",
       "      <td>0.0</td>\n",
       "      <td>0.0</td>\n",
       "      <td>0.0</td>\n",
       "      <td>0.0</td>\n",
       "      <td>0.0</td>\n",
       "      <td>0.0</td>\n",
       "      <td>0.0</td>\n",
       "      <td>0.0</td>\n",
       "      <td>0.0</td>\n",
       "      <td>0.0</td>\n",
       "      <td>0.0</td>\n",
       "      <td>0.0</td>\n",
       "      <td>0.0</td>\n",
       "      <td>0.0</td>\n",
       "      <td>0.0</td>\n",
       "      <td>0.0</td>\n",
       "      <td>0.0</td>\n",
       "      <td>0.0</td>\n",
       "      <td>0.0</td>\n",
       "      <td>0.0</td>\n",
       "      <td>0.0</td>\n",
       "      <td>0.0</td>\n",
       "      <td>0.0</td>\n",
       "      <td>0.0</td>\n",
       "      <td>0.0</td>\n",
       "    </tr>\n",
       "    <tr>\n",
       "      <th>1</th>\n",
       "      <td>0.960114</td>\n",
       "      <td>0.863248</td>\n",
       "      <td>0.461538</td>\n",
       "      <td>0.196581</td>\n",
       "      <td>0.094017</td>\n",
       "      <td>0.125356</td>\n",
       "      <td>0.099715</td>\n",
       "      <td>0.088319</td>\n",
       "      <td>0.074074</td>\n",
       "      <td>0.082621</td>\n",
       "      <td>0.074074</td>\n",
       "      <td>0.062678</td>\n",
       "      <td>0.065527</td>\n",
       "      <td>0.065527</td>\n",
       "      <td>0.062678</td>\n",
       "      <td>0.076923</td>\n",
       "      <td>0.071225</td>\n",
       "      <td>0.082621</td>\n",
       "      <td>0.091168</td>\n",
       "      <td>0.096866</td>\n",
       "      <td>0.082621</td>\n",
       "      <td>0.082621</td>\n",
       "      <td>0.091168</td>\n",
       "      <td>0.105413</td>\n",
       "      <td>0.122507</td>\n",
       "      <td>0.148148</td>\n",
       "      <td>0.182336</td>\n",
       "      <td>0.193732</td>\n",
       "      <td>0.213675</td>\n",
       "      <td>0.207977</td>\n",
       "      <td>0.222222</td>\n",
       "      <td>0.253561</td>\n",
       "      <td>0.270655</td>\n",
       "      <td>0.287749</td>\n",
       "      <td>0.284900</td>\n",
       "      <td>0.293447</td>\n",
       "      <td>0.256410</td>\n",
       "      <td>0.247863</td>\n",
       "      <td>0.188034</td>\n",
       "      <td>0.145299</td>\n",
       "      <td>...</td>\n",
       "      <td>0.0</td>\n",
       "      <td>0.0</td>\n",
       "      <td>0.0</td>\n",
       "      <td>0.0</td>\n",
       "      <td>0.0</td>\n",
       "      <td>0.0</td>\n",
       "      <td>0.0</td>\n",
       "      <td>0.0</td>\n",
       "      <td>0.0</td>\n",
       "      <td>0.0</td>\n",
       "      <td>0.0</td>\n",
       "      <td>0.0</td>\n",
       "      <td>0.0</td>\n",
       "      <td>0.0</td>\n",
       "      <td>0.0</td>\n",
       "      <td>0.0</td>\n",
       "      <td>0.0</td>\n",
       "      <td>0.0</td>\n",
       "      <td>0.0</td>\n",
       "      <td>0.0</td>\n",
       "      <td>0.0</td>\n",
       "      <td>0.0</td>\n",
       "      <td>0.0</td>\n",
       "      <td>0.0</td>\n",
       "      <td>0.0</td>\n",
       "      <td>0.0</td>\n",
       "      <td>0.0</td>\n",
       "      <td>0.0</td>\n",
       "      <td>0.0</td>\n",
       "      <td>0.0</td>\n",
       "      <td>0.0</td>\n",
       "      <td>0.0</td>\n",
       "      <td>0.0</td>\n",
       "      <td>0.0</td>\n",
       "      <td>0.0</td>\n",
       "      <td>0.0</td>\n",
       "      <td>0.0</td>\n",
       "      <td>0.0</td>\n",
       "      <td>0.0</td>\n",
       "      <td>0.0</td>\n",
       "    </tr>\n",
       "    <tr>\n",
       "      <th>2</th>\n",
       "      <td>1.000000</td>\n",
       "      <td>0.659459</td>\n",
       "      <td>0.186486</td>\n",
       "      <td>0.070270</td>\n",
       "      <td>0.070270</td>\n",
       "      <td>0.059459</td>\n",
       "      <td>0.056757</td>\n",
       "      <td>0.043243</td>\n",
       "      <td>0.054054</td>\n",
       "      <td>0.045946</td>\n",
       "      <td>0.056757</td>\n",
       "      <td>0.043243</td>\n",
       "      <td>0.067568</td>\n",
       "      <td>0.062162</td>\n",
       "      <td>0.078378</td>\n",
       "      <td>0.072973</td>\n",
       "      <td>0.086486</td>\n",
       "      <td>0.081081</td>\n",
       "      <td>0.108108</td>\n",
       "      <td>0.110811</td>\n",
       "      <td>0.135135</td>\n",
       "      <td>0.135135</td>\n",
       "      <td>0.170270</td>\n",
       "      <td>0.183784</td>\n",
       "      <td>0.216216</td>\n",
       "      <td>0.237838</td>\n",
       "      <td>0.270270</td>\n",
       "      <td>0.286486</td>\n",
       "      <td>0.316216</td>\n",
       "      <td>0.318919</td>\n",
       "      <td>0.332432</td>\n",
       "      <td>0.297297</td>\n",
       "      <td>0.267568</td>\n",
       "      <td>0.216216</td>\n",
       "      <td>0.189189</td>\n",
       "      <td>0.132432</td>\n",
       "      <td>0.118919</td>\n",
       "      <td>0.064865</td>\n",
       "      <td>0.064865</td>\n",
       "      <td>0.043243</td>\n",
       "      <td>...</td>\n",
       "      <td>0.0</td>\n",
       "      <td>0.0</td>\n",
       "      <td>0.0</td>\n",
       "      <td>0.0</td>\n",
       "      <td>0.0</td>\n",
       "      <td>0.0</td>\n",
       "      <td>0.0</td>\n",
       "      <td>0.0</td>\n",
       "      <td>0.0</td>\n",
       "      <td>0.0</td>\n",
       "      <td>0.0</td>\n",
       "      <td>0.0</td>\n",
       "      <td>0.0</td>\n",
       "      <td>0.0</td>\n",
       "      <td>0.0</td>\n",
       "      <td>0.0</td>\n",
       "      <td>0.0</td>\n",
       "      <td>0.0</td>\n",
       "      <td>0.0</td>\n",
       "      <td>0.0</td>\n",
       "      <td>0.0</td>\n",
       "      <td>0.0</td>\n",
       "      <td>0.0</td>\n",
       "      <td>0.0</td>\n",
       "      <td>0.0</td>\n",
       "      <td>0.0</td>\n",
       "      <td>0.0</td>\n",
       "      <td>0.0</td>\n",
       "      <td>0.0</td>\n",
       "      <td>0.0</td>\n",
       "      <td>0.0</td>\n",
       "      <td>0.0</td>\n",
       "      <td>0.0</td>\n",
       "      <td>0.0</td>\n",
       "      <td>0.0</td>\n",
       "      <td>0.0</td>\n",
       "      <td>0.0</td>\n",
       "      <td>0.0</td>\n",
       "      <td>0.0</td>\n",
       "      <td>0.0</td>\n",
       "    </tr>\n",
       "    <tr>\n",
       "      <th>3</th>\n",
       "      <td>0.925414</td>\n",
       "      <td>0.665746</td>\n",
       "      <td>0.541436</td>\n",
       "      <td>0.276243</td>\n",
       "      <td>0.196133</td>\n",
       "      <td>0.077348</td>\n",
       "      <td>0.071823</td>\n",
       "      <td>0.060773</td>\n",
       "      <td>0.066298</td>\n",
       "      <td>0.058011</td>\n",
       "      <td>0.063536</td>\n",
       "      <td>0.082873</td>\n",
       "      <td>0.085635</td>\n",
       "      <td>0.093923</td>\n",
       "      <td>0.113260</td>\n",
       "      <td>0.124309</td>\n",
       "      <td>0.140884</td>\n",
       "      <td>0.132597</td>\n",
       "      <td>0.140884</td>\n",
       "      <td>0.091160</td>\n",
       "      <td>0.085635</td>\n",
       "      <td>0.074586</td>\n",
       "      <td>0.071823</td>\n",
       "      <td>0.080110</td>\n",
       "      <td>0.096685</td>\n",
       "      <td>0.118785</td>\n",
       "      <td>0.138122</td>\n",
       "      <td>0.140884</td>\n",
       "      <td>0.138122</td>\n",
       "      <td>0.146409</td>\n",
       "      <td>0.110497</td>\n",
       "      <td>0.102210</td>\n",
       "      <td>0.060773</td>\n",
       "      <td>0.027624</td>\n",
       "      <td>0.038674</td>\n",
       "      <td>0.013812</td>\n",
       "      <td>0.011050</td>\n",
       "      <td>0.013812</td>\n",
       "      <td>0.033149</td>\n",
       "      <td>0.005525</td>\n",
       "      <td>...</td>\n",
       "      <td>0.0</td>\n",
       "      <td>0.0</td>\n",
       "      <td>0.0</td>\n",
       "      <td>0.0</td>\n",
       "      <td>0.0</td>\n",
       "      <td>0.0</td>\n",
       "      <td>0.0</td>\n",
       "      <td>0.0</td>\n",
       "      <td>0.0</td>\n",
       "      <td>0.0</td>\n",
       "      <td>0.0</td>\n",
       "      <td>0.0</td>\n",
       "      <td>0.0</td>\n",
       "      <td>0.0</td>\n",
       "      <td>0.0</td>\n",
       "      <td>0.0</td>\n",
       "      <td>0.0</td>\n",
       "      <td>0.0</td>\n",
       "      <td>0.0</td>\n",
       "      <td>0.0</td>\n",
       "      <td>0.0</td>\n",
       "      <td>0.0</td>\n",
       "      <td>0.0</td>\n",
       "      <td>0.0</td>\n",
       "      <td>0.0</td>\n",
       "      <td>0.0</td>\n",
       "      <td>0.0</td>\n",
       "      <td>0.0</td>\n",
       "      <td>0.0</td>\n",
       "      <td>0.0</td>\n",
       "      <td>0.0</td>\n",
       "      <td>0.0</td>\n",
       "      <td>0.0</td>\n",
       "      <td>0.0</td>\n",
       "      <td>0.0</td>\n",
       "      <td>0.0</td>\n",
       "      <td>0.0</td>\n",
       "      <td>0.0</td>\n",
       "      <td>0.0</td>\n",
       "      <td>0.0</td>\n",
       "    </tr>\n",
       "    <tr>\n",
       "      <th>4</th>\n",
       "      <td>0.967136</td>\n",
       "      <td>1.000000</td>\n",
       "      <td>0.830986</td>\n",
       "      <td>0.586854</td>\n",
       "      <td>0.356808</td>\n",
       "      <td>0.248826</td>\n",
       "      <td>0.145540</td>\n",
       "      <td>0.089202</td>\n",
       "      <td>0.117371</td>\n",
       "      <td>0.150235</td>\n",
       "      <td>0.131455</td>\n",
       "      <td>0.122066</td>\n",
       "      <td>0.140845</td>\n",
       "      <td>0.159624</td>\n",
       "      <td>0.150235</td>\n",
       "      <td>0.145540</td>\n",
       "      <td>0.136150</td>\n",
       "      <td>0.169014</td>\n",
       "      <td>0.178404</td>\n",
       "      <td>0.173709</td>\n",
       "      <td>0.183099</td>\n",
       "      <td>0.201878</td>\n",
       "      <td>0.187793</td>\n",
       "      <td>0.164319</td>\n",
       "      <td>0.187793</td>\n",
       "      <td>0.215962</td>\n",
       "      <td>0.215962</td>\n",
       "      <td>0.201878</td>\n",
       "      <td>0.211268</td>\n",
       "      <td>0.230047</td>\n",
       "      <td>0.215962</td>\n",
       "      <td>0.230047</td>\n",
       "      <td>0.239437</td>\n",
       "      <td>0.267606</td>\n",
       "      <td>0.253521</td>\n",
       "      <td>0.230047</td>\n",
       "      <td>0.220657</td>\n",
       "      <td>0.225352</td>\n",
       "      <td>0.211268</td>\n",
       "      <td>0.173709</td>\n",
       "      <td>...</td>\n",
       "      <td>0.0</td>\n",
       "      <td>0.0</td>\n",
       "      <td>0.0</td>\n",
       "      <td>0.0</td>\n",
       "      <td>0.0</td>\n",
       "      <td>0.0</td>\n",
       "      <td>0.0</td>\n",
       "      <td>0.0</td>\n",
       "      <td>0.0</td>\n",
       "      <td>0.0</td>\n",
       "      <td>0.0</td>\n",
       "      <td>0.0</td>\n",
       "      <td>0.0</td>\n",
       "      <td>0.0</td>\n",
       "      <td>0.0</td>\n",
       "      <td>0.0</td>\n",
       "      <td>0.0</td>\n",
       "      <td>0.0</td>\n",
       "      <td>0.0</td>\n",
       "      <td>0.0</td>\n",
       "      <td>0.0</td>\n",
       "      <td>0.0</td>\n",
       "      <td>0.0</td>\n",
       "      <td>0.0</td>\n",
       "      <td>0.0</td>\n",
       "      <td>0.0</td>\n",
       "      <td>0.0</td>\n",
       "      <td>0.0</td>\n",
       "      <td>0.0</td>\n",
       "      <td>0.0</td>\n",
       "      <td>0.0</td>\n",
       "      <td>0.0</td>\n",
       "      <td>0.0</td>\n",
       "      <td>0.0</td>\n",
       "      <td>0.0</td>\n",
       "      <td>0.0</td>\n",
       "      <td>0.0</td>\n",
       "      <td>0.0</td>\n",
       "      <td>0.0</td>\n",
       "      <td>0.0</td>\n",
       "    </tr>\n",
       "    <tr>\n",
       "      <th>...</th>\n",
       "      <td>...</td>\n",
       "      <td>...</td>\n",
       "      <td>...</td>\n",
       "      <td>...</td>\n",
       "      <td>...</td>\n",
       "      <td>...</td>\n",
       "      <td>...</td>\n",
       "      <td>...</td>\n",
       "      <td>...</td>\n",
       "      <td>...</td>\n",
       "      <td>...</td>\n",
       "      <td>...</td>\n",
       "      <td>...</td>\n",
       "      <td>...</td>\n",
       "      <td>...</td>\n",
       "      <td>...</td>\n",
       "      <td>...</td>\n",
       "      <td>...</td>\n",
       "      <td>...</td>\n",
       "      <td>...</td>\n",
       "      <td>...</td>\n",
       "      <td>...</td>\n",
       "      <td>...</td>\n",
       "      <td>...</td>\n",
       "      <td>...</td>\n",
       "      <td>...</td>\n",
       "      <td>...</td>\n",
       "      <td>...</td>\n",
       "      <td>...</td>\n",
       "      <td>...</td>\n",
       "      <td>...</td>\n",
       "      <td>...</td>\n",
       "      <td>...</td>\n",
       "      <td>...</td>\n",
       "      <td>...</td>\n",
       "      <td>...</td>\n",
       "      <td>...</td>\n",
       "      <td>...</td>\n",
       "      <td>...</td>\n",
       "      <td>...</td>\n",
       "      <td>...</td>\n",
       "      <td>...</td>\n",
       "      <td>...</td>\n",
       "      <td>...</td>\n",
       "      <td>...</td>\n",
       "      <td>...</td>\n",
       "      <td>...</td>\n",
       "      <td>...</td>\n",
       "      <td>...</td>\n",
       "      <td>...</td>\n",
       "      <td>...</td>\n",
       "      <td>...</td>\n",
       "      <td>...</td>\n",
       "      <td>...</td>\n",
       "      <td>...</td>\n",
       "      <td>...</td>\n",
       "      <td>...</td>\n",
       "      <td>...</td>\n",
       "      <td>...</td>\n",
       "      <td>...</td>\n",
       "      <td>...</td>\n",
       "      <td>...</td>\n",
       "      <td>...</td>\n",
       "      <td>...</td>\n",
       "      <td>...</td>\n",
       "      <td>...</td>\n",
       "      <td>...</td>\n",
       "      <td>...</td>\n",
       "      <td>...</td>\n",
       "      <td>...</td>\n",
       "      <td>...</td>\n",
       "      <td>...</td>\n",
       "      <td>...</td>\n",
       "      <td>...</td>\n",
       "      <td>...</td>\n",
       "      <td>...</td>\n",
       "      <td>...</td>\n",
       "      <td>...</td>\n",
       "      <td>...</td>\n",
       "      <td>...</td>\n",
       "      <td>...</td>\n",
       "    </tr>\n",
       "    <tr>\n",
       "      <th>87549</th>\n",
       "      <td>0.807018</td>\n",
       "      <td>0.494737</td>\n",
       "      <td>0.536842</td>\n",
       "      <td>0.529825</td>\n",
       "      <td>0.491228</td>\n",
       "      <td>0.484211</td>\n",
       "      <td>0.456140</td>\n",
       "      <td>0.396491</td>\n",
       "      <td>0.284211</td>\n",
       "      <td>0.136842</td>\n",
       "      <td>0.052632</td>\n",
       "      <td>0.140351</td>\n",
       "      <td>0.119298</td>\n",
       "      <td>0.091228</td>\n",
       "      <td>0.140351</td>\n",
       "      <td>0.161404</td>\n",
       "      <td>0.105263</td>\n",
       "      <td>0.143860</td>\n",
       "      <td>0.143860</td>\n",
       "      <td>0.129825</td>\n",
       "      <td>0.147368</td>\n",
       "      <td>0.157895</td>\n",
       "      <td>0.164912</td>\n",
       "      <td>0.168421</td>\n",
       "      <td>0.154386</td>\n",
       "      <td>0.175439</td>\n",
       "      <td>0.164912</td>\n",
       "      <td>0.154386</td>\n",
       "      <td>0.182456</td>\n",
       "      <td>0.192982</td>\n",
       "      <td>0.196491</td>\n",
       "      <td>0.207018</td>\n",
       "      <td>0.217544</td>\n",
       "      <td>0.217544</td>\n",
       "      <td>0.256140</td>\n",
       "      <td>0.284211</td>\n",
       "      <td>0.294737</td>\n",
       "      <td>0.301754</td>\n",
       "      <td>0.301754</td>\n",
       "      <td>0.322807</td>\n",
       "      <td>...</td>\n",
       "      <td>0.0</td>\n",
       "      <td>0.0</td>\n",
       "      <td>0.0</td>\n",
       "      <td>0.0</td>\n",
       "      <td>0.0</td>\n",
       "      <td>0.0</td>\n",
       "      <td>0.0</td>\n",
       "      <td>0.0</td>\n",
       "      <td>0.0</td>\n",
       "      <td>0.0</td>\n",
       "      <td>0.0</td>\n",
       "      <td>0.0</td>\n",
       "      <td>0.0</td>\n",
       "      <td>0.0</td>\n",
       "      <td>0.0</td>\n",
       "      <td>0.0</td>\n",
       "      <td>0.0</td>\n",
       "      <td>0.0</td>\n",
       "      <td>0.0</td>\n",
       "      <td>0.0</td>\n",
       "      <td>0.0</td>\n",
       "      <td>0.0</td>\n",
       "      <td>0.0</td>\n",
       "      <td>0.0</td>\n",
       "      <td>0.0</td>\n",
       "      <td>0.0</td>\n",
       "      <td>0.0</td>\n",
       "      <td>0.0</td>\n",
       "      <td>0.0</td>\n",
       "      <td>0.0</td>\n",
       "      <td>0.0</td>\n",
       "      <td>0.0</td>\n",
       "      <td>0.0</td>\n",
       "      <td>0.0</td>\n",
       "      <td>0.0</td>\n",
       "      <td>0.0</td>\n",
       "      <td>0.0</td>\n",
       "      <td>0.0</td>\n",
       "      <td>0.0</td>\n",
       "      <td>4.0</td>\n",
       "    </tr>\n",
       "    <tr>\n",
       "      <th>87550</th>\n",
       "      <td>0.718333</td>\n",
       "      <td>0.605000</td>\n",
       "      <td>0.486667</td>\n",
       "      <td>0.361667</td>\n",
       "      <td>0.231667</td>\n",
       "      <td>0.120000</td>\n",
       "      <td>0.051667</td>\n",
       "      <td>0.001667</td>\n",
       "      <td>0.000000</td>\n",
       "      <td>0.013333</td>\n",
       "      <td>0.078333</td>\n",
       "      <td>0.183333</td>\n",
       "      <td>0.275000</td>\n",
       "      <td>0.315000</td>\n",
       "      <td>0.361667</td>\n",
       "      <td>0.430000</td>\n",
       "      <td>0.481667</td>\n",
       "      <td>0.526667</td>\n",
       "      <td>0.543333</td>\n",
       "      <td>0.563333</td>\n",
       "      <td>0.581667</td>\n",
       "      <td>0.588333</td>\n",
       "      <td>0.600000</td>\n",
       "      <td>0.603333</td>\n",
       "      <td>0.613333</td>\n",
       "      <td>0.621667</td>\n",
       "      <td>0.636667</td>\n",
       "      <td>0.651667</td>\n",
       "      <td>0.665000</td>\n",
       "      <td>0.681667</td>\n",
       "      <td>0.700000</td>\n",
       "      <td>0.711667</td>\n",
       "      <td>0.735000</td>\n",
       "      <td>0.763333</td>\n",
       "      <td>0.785000</td>\n",
       "      <td>0.810000</td>\n",
       "      <td>0.835000</td>\n",
       "      <td>0.856667</td>\n",
       "      <td>0.876667</td>\n",
       "      <td>0.880000</td>\n",
       "      <td>...</td>\n",
       "      <td>0.0</td>\n",
       "      <td>0.0</td>\n",
       "      <td>0.0</td>\n",
       "      <td>0.0</td>\n",
       "      <td>0.0</td>\n",
       "      <td>0.0</td>\n",
       "      <td>0.0</td>\n",
       "      <td>0.0</td>\n",
       "      <td>0.0</td>\n",
       "      <td>0.0</td>\n",
       "      <td>0.0</td>\n",
       "      <td>0.0</td>\n",
       "      <td>0.0</td>\n",
       "      <td>0.0</td>\n",
       "      <td>0.0</td>\n",
       "      <td>0.0</td>\n",
       "      <td>0.0</td>\n",
       "      <td>0.0</td>\n",
       "      <td>0.0</td>\n",
       "      <td>0.0</td>\n",
       "      <td>0.0</td>\n",
       "      <td>0.0</td>\n",
       "      <td>0.0</td>\n",
       "      <td>0.0</td>\n",
       "      <td>0.0</td>\n",
       "      <td>0.0</td>\n",
       "      <td>0.0</td>\n",
       "      <td>0.0</td>\n",
       "      <td>0.0</td>\n",
       "      <td>0.0</td>\n",
       "      <td>0.0</td>\n",
       "      <td>0.0</td>\n",
       "      <td>0.0</td>\n",
       "      <td>0.0</td>\n",
       "      <td>0.0</td>\n",
       "      <td>0.0</td>\n",
       "      <td>0.0</td>\n",
       "      <td>0.0</td>\n",
       "      <td>0.0</td>\n",
       "      <td>4.0</td>\n",
       "    </tr>\n",
       "    <tr>\n",
       "      <th>87551</th>\n",
       "      <td>0.906122</td>\n",
       "      <td>0.624490</td>\n",
       "      <td>0.595918</td>\n",
       "      <td>0.575510</td>\n",
       "      <td>0.530612</td>\n",
       "      <td>0.481633</td>\n",
       "      <td>0.444898</td>\n",
       "      <td>0.387755</td>\n",
       "      <td>0.322449</td>\n",
       "      <td>0.191837</td>\n",
       "      <td>0.097959</td>\n",
       "      <td>0.048980</td>\n",
       "      <td>0.036735</td>\n",
       "      <td>0.053061</td>\n",
       "      <td>0.053061</td>\n",
       "      <td>0.097959</td>\n",
       "      <td>0.183673</td>\n",
       "      <td>0.269388</td>\n",
       "      <td>0.351020</td>\n",
       "      <td>0.408163</td>\n",
       "      <td>0.436735</td>\n",
       "      <td>0.469388</td>\n",
       "      <td>0.481633</td>\n",
       "      <td>0.518367</td>\n",
       "      <td>0.530612</td>\n",
       "      <td>0.534694</td>\n",
       "      <td>0.555102</td>\n",
       "      <td>0.591837</td>\n",
       "      <td>0.628571</td>\n",
       "      <td>0.632653</td>\n",
       "      <td>0.624490</td>\n",
       "      <td>0.616327</td>\n",
       "      <td>0.616327</td>\n",
       "      <td>0.608163</td>\n",
       "      <td>0.608163</td>\n",
       "      <td>0.620408</td>\n",
       "      <td>0.628571</td>\n",
       "      <td>0.624490</td>\n",
       "      <td>0.632653</td>\n",
       "      <td>0.644898</td>\n",
       "      <td>...</td>\n",
       "      <td>0.0</td>\n",
       "      <td>0.0</td>\n",
       "      <td>0.0</td>\n",
       "      <td>0.0</td>\n",
       "      <td>0.0</td>\n",
       "      <td>0.0</td>\n",
       "      <td>0.0</td>\n",
       "      <td>0.0</td>\n",
       "      <td>0.0</td>\n",
       "      <td>0.0</td>\n",
       "      <td>0.0</td>\n",
       "      <td>0.0</td>\n",
       "      <td>0.0</td>\n",
       "      <td>0.0</td>\n",
       "      <td>0.0</td>\n",
       "      <td>0.0</td>\n",
       "      <td>0.0</td>\n",
       "      <td>0.0</td>\n",
       "      <td>0.0</td>\n",
       "      <td>0.0</td>\n",
       "      <td>0.0</td>\n",
       "      <td>0.0</td>\n",
       "      <td>0.0</td>\n",
       "      <td>0.0</td>\n",
       "      <td>0.0</td>\n",
       "      <td>0.0</td>\n",
       "      <td>0.0</td>\n",
       "      <td>0.0</td>\n",
       "      <td>0.0</td>\n",
       "      <td>0.0</td>\n",
       "      <td>0.0</td>\n",
       "      <td>0.0</td>\n",
       "      <td>0.0</td>\n",
       "      <td>0.0</td>\n",
       "      <td>0.0</td>\n",
       "      <td>0.0</td>\n",
       "      <td>0.0</td>\n",
       "      <td>0.0</td>\n",
       "      <td>0.0</td>\n",
       "      <td>4.0</td>\n",
       "    </tr>\n",
       "    <tr>\n",
       "      <th>87552</th>\n",
       "      <td>0.858228</td>\n",
       "      <td>0.645570</td>\n",
       "      <td>0.845570</td>\n",
       "      <td>0.248101</td>\n",
       "      <td>0.167089</td>\n",
       "      <td>0.131646</td>\n",
       "      <td>0.121519</td>\n",
       "      <td>0.121519</td>\n",
       "      <td>0.118987</td>\n",
       "      <td>0.103797</td>\n",
       "      <td>0.101266</td>\n",
       "      <td>0.101266</td>\n",
       "      <td>0.088608</td>\n",
       "      <td>0.081013</td>\n",
       "      <td>0.073418</td>\n",
       "      <td>0.065823</td>\n",
       "      <td>0.065823</td>\n",
       "      <td>0.053165</td>\n",
       "      <td>0.048101</td>\n",
       "      <td>0.037975</td>\n",
       "      <td>0.035443</td>\n",
       "      <td>0.025316</td>\n",
       "      <td>0.020253</td>\n",
       "      <td>0.020253</td>\n",
       "      <td>0.017722</td>\n",
       "      <td>0.002532</td>\n",
       "      <td>0.005063</td>\n",
       "      <td>0.007595</td>\n",
       "      <td>0.000000</td>\n",
       "      <td>0.010127</td>\n",
       "      <td>0.010127</td>\n",
       "      <td>0.015190</td>\n",
       "      <td>0.035443</td>\n",
       "      <td>0.040506</td>\n",
       "      <td>0.050633</td>\n",
       "      <td>0.058228</td>\n",
       "      <td>0.070886</td>\n",
       "      <td>0.086076</td>\n",
       "      <td>0.098734</td>\n",
       "      <td>0.106329</td>\n",
       "      <td>...</td>\n",
       "      <td>0.0</td>\n",
       "      <td>0.0</td>\n",
       "      <td>0.0</td>\n",
       "      <td>0.0</td>\n",
       "      <td>0.0</td>\n",
       "      <td>0.0</td>\n",
       "      <td>0.0</td>\n",
       "      <td>0.0</td>\n",
       "      <td>0.0</td>\n",
       "      <td>0.0</td>\n",
       "      <td>0.0</td>\n",
       "      <td>0.0</td>\n",
       "      <td>0.0</td>\n",
       "      <td>0.0</td>\n",
       "      <td>0.0</td>\n",
       "      <td>0.0</td>\n",
       "      <td>0.0</td>\n",
       "      <td>0.0</td>\n",
       "      <td>0.0</td>\n",
       "      <td>0.0</td>\n",
       "      <td>0.0</td>\n",
       "      <td>0.0</td>\n",
       "      <td>0.0</td>\n",
       "      <td>0.0</td>\n",
       "      <td>0.0</td>\n",
       "      <td>0.0</td>\n",
       "      <td>0.0</td>\n",
       "      <td>0.0</td>\n",
       "      <td>0.0</td>\n",
       "      <td>0.0</td>\n",
       "      <td>0.0</td>\n",
       "      <td>0.0</td>\n",
       "      <td>0.0</td>\n",
       "      <td>0.0</td>\n",
       "      <td>0.0</td>\n",
       "      <td>0.0</td>\n",
       "      <td>0.0</td>\n",
       "      <td>0.0</td>\n",
       "      <td>0.0</td>\n",
       "      <td>4.0</td>\n",
       "    </tr>\n",
       "    <tr>\n",
       "      <th>87553</th>\n",
       "      <td>0.901506</td>\n",
       "      <td>0.845886</td>\n",
       "      <td>0.800695</td>\n",
       "      <td>0.748552</td>\n",
       "      <td>0.687138</td>\n",
       "      <td>0.599073</td>\n",
       "      <td>0.512167</td>\n",
       "      <td>0.427578</td>\n",
       "      <td>0.395133</td>\n",
       "      <td>0.402086</td>\n",
       "      <td>0.370800</td>\n",
       "      <td>0.287370</td>\n",
       "      <td>0.236385</td>\n",
       "      <td>0.324450</td>\n",
       "      <td>0.403244</td>\n",
       "      <td>0.409038</td>\n",
       "      <td>0.407880</td>\n",
       "      <td>0.390498</td>\n",
       "      <td>0.390498</td>\n",
       "      <td>0.419467</td>\n",
       "      <td>0.443801</td>\n",
       "      <td>0.487833</td>\n",
       "      <td>0.544612</td>\n",
       "      <td>0.574739</td>\n",
       "      <td>0.582851</td>\n",
       "      <td>0.592121</td>\n",
       "      <td>0.601390</td>\n",
       "      <td>0.611819</td>\n",
       "      <td>0.624565</td>\n",
       "      <td>0.634994</td>\n",
       "      <td>0.650058</td>\n",
       "      <td>0.661645</td>\n",
       "      <td>0.677868</td>\n",
       "      <td>0.691773</td>\n",
       "      <td>0.712630</td>\n",
       "      <td>0.726535</td>\n",
       "      <td>0.741599</td>\n",
       "      <td>0.749710</td>\n",
       "      <td>0.761298</td>\n",
       "      <td>0.763615</td>\n",
       "      <td>...</td>\n",
       "      <td>0.0</td>\n",
       "      <td>0.0</td>\n",
       "      <td>0.0</td>\n",
       "      <td>0.0</td>\n",
       "      <td>0.0</td>\n",
       "      <td>0.0</td>\n",
       "      <td>0.0</td>\n",
       "      <td>0.0</td>\n",
       "      <td>0.0</td>\n",
       "      <td>0.0</td>\n",
       "      <td>0.0</td>\n",
       "      <td>0.0</td>\n",
       "      <td>0.0</td>\n",
       "      <td>0.0</td>\n",
       "      <td>0.0</td>\n",
       "      <td>0.0</td>\n",
       "      <td>0.0</td>\n",
       "      <td>0.0</td>\n",
       "      <td>0.0</td>\n",
       "      <td>0.0</td>\n",
       "      <td>0.0</td>\n",
       "      <td>0.0</td>\n",
       "      <td>0.0</td>\n",
       "      <td>0.0</td>\n",
       "      <td>0.0</td>\n",
       "      <td>0.0</td>\n",
       "      <td>0.0</td>\n",
       "      <td>0.0</td>\n",
       "      <td>0.0</td>\n",
       "      <td>0.0</td>\n",
       "      <td>0.0</td>\n",
       "      <td>0.0</td>\n",
       "      <td>0.0</td>\n",
       "      <td>0.0</td>\n",
       "      <td>0.0</td>\n",
       "      <td>0.0</td>\n",
       "      <td>0.0</td>\n",
       "      <td>0.0</td>\n",
       "      <td>0.0</td>\n",
       "      <td>4.0</td>\n",
       "    </tr>\n",
       "  </tbody>\n",
       "</table>\n",
       "<p>87554 rows × 188 columns</p>\n",
       "</div>"
      ],
      "text/plain": [
       "            0         1         2         3    ...  184  185  186  187\n",
       "0      0.977941  0.926471  0.681373  0.245098  ...  0.0  0.0  0.0  0.0\n",
       "1      0.960114  0.863248  0.461538  0.196581  ...  0.0  0.0  0.0  0.0\n",
       "2      1.000000  0.659459  0.186486  0.070270  ...  0.0  0.0  0.0  0.0\n",
       "3      0.925414  0.665746  0.541436  0.276243  ...  0.0  0.0  0.0  0.0\n",
       "4      0.967136  1.000000  0.830986  0.586854  ...  0.0  0.0  0.0  0.0\n",
       "...         ...       ...       ...       ...  ...  ...  ...  ...  ...\n",
       "87549  0.807018  0.494737  0.536842  0.529825  ...  0.0  0.0  0.0  4.0\n",
       "87550  0.718333  0.605000  0.486667  0.361667  ...  0.0  0.0  0.0  4.0\n",
       "87551  0.906122  0.624490  0.595918  0.575510  ...  0.0  0.0  0.0  4.0\n",
       "87552  0.858228  0.645570  0.845570  0.248101  ...  0.0  0.0  0.0  4.0\n",
       "87553  0.901506  0.845886  0.800695  0.748552  ...  0.0  0.0  0.0  4.0\n",
       "\n",
       "[87554 rows x 188 columns]"
      ]
     },
     "execution_count": 18,
     "metadata": {
      "tags": []
     },
     "output_type": "execute_result"
    }
   ],
   "source": [
    "train_data=pd.DataFrame(train_data)\n",
    "train_data"
   ]
  },
  {
   "cell_type": "code",
   "execution_count": null,
   "metadata": {
    "colab": {
     "base_uri": "https://localhost:8080/"
    },
    "id": "WCO6wqM9VV8Z",
    "outputId": "62ad0b2f-b77a-412f-945f-eb88d8535f46"
   },
   "outputs": [
    {
     "data": {
      "text/plain": [
       "False"
      ]
     },
     "execution_count": 19,
     "metadata": {
      "tags": []
     },
     "output_type": "execute_result"
    }
   ],
   "source": [
    "# Check if Data Contain Missing Value\n",
    "train_data.isnull().values.any()"
   ]
  },
  {
   "cell_type": "code",
   "execution_count": null,
   "metadata": {
    "colab": {
     "base_uri": "https://localhost:8080/"
    },
    "id": "c4Vgcea2dvpg",
    "outputId": "f9fa26ee-9123-4f59-e3fe-c49bee2447ab"
   },
   "outputs": [
    {
     "data": {
      "text/plain": [
       "<seaborn.axisgrid.FacetGrid at 0x7f40f83cafd0>"
      ]
     },
     "execution_count": 20,
     "metadata": {
      "tags": []
     },
     "output_type": "execute_result"
    },
    {
     "data": {
      "image/png": "[encoded data removed]",
      "text/plain": [
       "<Figure size 360x360 with 1 Axes>"
      ]
     },
     "metadata": {
      "needs_background": "light",
      "tags": []
     },
     "output_type": "display_data"
    }
   ],
   "source": [
    "# Data is not balanced due to class 0 contain 72471 sample\n",
    "train_data[187].value_counts()\n",
    "sns.catplot(x = 187, kind = 'count', data = train_data)"
   ]
  },
  {
   "cell_type": "code",
   "execution_count": null,
   "metadata": {
    "id": "eytem-uyWO61"
   },
   "outputs": [],
   "source": [
    "# Balance the data\n",
    "class_1 = train_data[train_data[187]==1]\n",
    "class_2 = train_data[train_data[187]==2]\n",
    "class_3 = train_data[train_data[187]==3]\n",
    "class_4 = train_data[train_data[187]==4]\n",
    "class_0 = train_data[train_data[187]==0].sample(n = 7000)\n",
    "train_data = pd.concat([class_1, class_2, class_3, class_4, class_0]).sample(frac=1)"
   ]
  },
  {
   "cell_type": "code",
   "execution_count": null,
   "metadata": {
    "colab": {
     "base_uri": "https://localhost:8080/"
    },
    "id": "ZL5ll20UdvR_",
    "outputId": "07ed5d38-16e6-4023-9538-26df6f16773f"
   },
   "outputs": [
    {
     "data": {
      "text/plain": [
       "<seaborn.axisgrid.FacetGrid at 0x7f40f71ebed0>"
      ]
     },
     "execution_count": 22,
     "metadata": {
      "tags": []
     },
     "output_type": "execute_result"
    },
    {
     "data": {
      "image/png": "[encoded data removed]",
      "text/plain": [
       "<Figure size 360x360 with 1 Axes>"
      ]
     },
     "metadata": {
      "needs_background": "light",
      "tags": []
     },
     "output_type": "display_data"
    }
   ],
   "source": [
    "train_data[187].value_counts()\n",
    "sns.catplot(x = 187, kind = 'count', data = train_data)"
   ]
  },
  {
   "cell_type": "markdown",
   "metadata": {
    "id": "ESUPwRC10XWK"
   },
   "source": [
    "# **Data Visualization**"
   ]
  },
  {
   "cell_type": "code",
   "execution_count": null,
   "metadata": {
    "id": "Csstu30L0eoE"
   },
   "outputs": [],
   "source": [
    "# Split training data to classes\n",
    "df_1 = train_data[train_data[187] == 1] # Supraventricular ectopic beats\n",
    "df_2 = train_data[train_data[187] == 2] # Ventricular ectopic beats\n",
    "df_3 = train_data[train_data[187] == 3] # Fusion beats\n",
    "df_4 = train_data[train_data[187] == 4] # Unknown Beats\n",
    "df_5 = train_data[train_data[187] == 0] # Normal Beat"
   ]
  },
  {
   "cell_type": "markdown",
   "metadata": {
    "id": "K6mf3j8EEPLf"
   },
   "source": [
    "### **Normal Beat**"
   ]
  },
  {
   "cell_type": "code",
   "execution_count": null,
   "metadata": {
    "colab": {
     "base_uri": "https://localhost:8080/"
    },
    "id": "_WZyA7vtD8zV",
    "outputId": "3ba9e485-9a2f-484b-a9da-8f8634cb853f"
   },
   "outputs": [
    {
     "data": {
      "image/png": "[encoded data removed]",
      "text/plain": [
       "<Figure size 1440x576 with 1 Axes>"
      ]
     },
     "metadata": {
      "tags": []
     },
     "output_type": "display_data"
    }
   ],
   "source": [
    "sns.set_style(\"whitegrid\")\n",
    "plt.figure(figsize=(20,8))\n",
    "plt.plot(df_5.iloc[0, 0:187], color = 'red', label = 'Normal Heart Beats')\n",
    "plt.title(\"Normal Beats\", fontsize = 12)\n",
    "plt.xlabel(\"Time (in ms)\")\n",
    "plt.ylabel(\"Heart Beat Amplitude\")\n",
    "plt.legend()\n",
    "plt.show()"
   ]
  },
  {
   "cell_type": "markdown",
   "metadata": {
    "id": "MXiKKL7VEYio"
   },
   "source": [
    "### **Supraventricular Ectopic Beat**"
   ]
  },
  {
   "cell_type": "code",
   "execution_count": null,
   "metadata": {
    "colab": {
     "base_uri": "https://localhost:8080/",
     "height": 513
    },
    "id": "y-fEO3qr0eqZ",
    "outputId": "9448dea8-b1f0-4b16-c01d-b79841e69cec"
   },
   "outputs": [
    {
     "data": {
      "image/png": "[encoded data removed]",
      "text/plain": [
       "<Figure size 1440x576 with 1 Axes>"
      ]
     },
     "metadata": {
      "tags": []
     },
     "output_type": "display_data"
    }
   ],
   "source": [
    "sns.set_style(\"whitegrid\")\n",
    "plt.figure(figsize=(20,8))\n",
    "plt.plot(df_1.iloc[0, 0:187], color = 'blue', label = 'Supraventricular ectopic beats')\n",
    "plt.title(\"Supraventricular Ectopic Beats\", fontsize = 12)\n",
    "plt.xlabel(\"Time (in ms)\")\n",
    "plt.ylabel(\"Heart Beat Amplitude\")\n",
    "plt.legend()\n",
    "plt.show()"
   ]
  },
  {
   "cell_type": "markdown",
   "metadata": {
    "id": "B1E9fJOIEe2-"
   },
   "source": [
    "### **Ventricular Ectopic Beat**"
   ]
  },
  {
   "cell_type": "code",
   "execution_count": null,
   "metadata": {
    "colab": {
     "base_uri": "https://localhost:8080/",
     "height": 513
    },
    "id": "7lBCIJwP0euE",
    "outputId": "4e681d3c-5c83-4cbb-e19d-1c9dbe47650e"
   },
   "outputs": [
    {
     "data": {
      "image/png": "[encoded data removed]",
      "text/plain": [
       "<Figure size 1440x576 with 1 Axes>"
      ]
     },
     "metadata": {
      "tags": []
     },
     "output_type": "display_data"
    }
   ],
   "source": [
    "sns.set_style(\"whitegrid\")\n",
    "plt.figure(figsize=(20,8))\n",
    "plt.plot(df_2.iloc[0, 0:187], color = 'orange', label = 'Ventricular ectopic beats')\n",
    "plt.title(\"Ventricular ectopic beats\", fontsize = 12)\n",
    "plt.xlabel(\"Time (in ms)\")\n",
    "plt.ylabel(\"Heart Beat Amplitude\")\n",
    "plt.legend()\n",
    "plt.show()"
   ]
  },
  {
   "cell_type": "markdown",
   "metadata": {
    "id": "0vWonkX8FaML"
   },
   "source": [
    "### **Fusion Beats**"
   ]
  },
  {
   "cell_type": "code",
   "execution_count": null,
   "metadata": {
    "colab": {
     "base_uri": "https://localhost:8080/",
     "height": 513
    },
    "id": "QUa0Nqzx7m8y",
    "outputId": "e5089bee-7211-4c50-9c7a-fa32024656e4"
   },
   "outputs": [
    {
     "data": {
      "image/png": "[encoded data removed]",
      "text/plain": [
       "<Figure size 1440x576 with 1 Axes>"
      ]
     },
     "metadata": {
      "tags": []
     },
     "output_type": "display_data"
    }
   ],
   "source": [
    "sns.set_style(\"whitegrid\")\n",
    "plt.figure(figsize=(20,8))\n",
    "plt.plot(df_3.iloc[0, 0:187], color = 'skyblue', label = 'Fusion beats')\n",
    "plt.title(\"Fusion beats\", fontsize = 12)\n",
    "plt.xlabel(\"Time (in ms)\")\n",
    "plt.ylabel(\"Heart Beat Amplitude\")\n",
    "plt.legend()\n",
    "plt.show()"
   ]
  },
  {
   "cell_type": "markdown",
   "metadata": {
    "id": "Sqhrza5jFhRb"
   },
   "source": [
    "**Unknown Beats**"
   ]
  },
  {
   "cell_type": "code",
   "execution_count": null,
   "metadata": {
    "colab": {
     "base_uri": "https://localhost:8080/",
     "height": 513
    },
    "id": "vdTCcVYF7nJf",
    "outputId": "e80e2ee6-01da-4df1-e7d8-e065898cfb03"
   },
   "outputs": [
    {
     "data": {
      "image/png": "[encoded data removed]",
      "text/plain": [
       "<Figure size 1440x576 with 1 Axes>"
      ]
     },
     "metadata": {
      "tags": []
     },
     "output_type": "display_data"
    }
   ],
   "source": [
    "sns.set_style(\"whitegrid\")\n",
    "plt.figure(figsize=(20,8))\n",
    "plt.plot(df_5.iloc[0, 0:187], color = 'black', label = 'Unkown beats')\n",
    "plt.title(\"Unkown beats\", fontsize = 12)\n",
    "plt.xlabel(\"Time (in ms)\")\n",
    "plt.ylabel(\"Heart Beat Amplitude\")\n",
    "plt.legend()\n",
    "plt.show()"
   ]
  },
  {
   "cell_type": "markdown",
   "metadata": {
    "id": "_bRzqZuyONSL"
   },
   "source": [
    "# **Splitting Data into Input - Output**"
   ]
  },
  {
   "cell_type": "code",
   "execution_count": null,
   "metadata": {
    "id": "ZxPmQXkoOlTQ"
   },
   "outputs": [],
   "source": [
    "input_data = train_data.drop([187], axis=1) # Features\n",
    "output_data = train_data[187] # Classes"
   ]
  },
  {
   "cell_type": "markdown",
   "metadata": {
    "id": "anIVDv6Yddqo"
   },
   "source": [
    "# **Spliting Data into Train and validation**"
   ]
  },
  {
   "cell_type": "code",
   "execution_count": null,
   "metadata": {
    "id": "3t85JGJ_WU_W"
   },
   "outputs": [],
   "source": [
    "x_train, x_val , y_train, y_val= train_test_split(input_data, output_data, test_size = 0.1 , random_state = 1)"
   ]
  },
  {
   "cell_type": "code",
   "execution_count": null,
   "metadata": {
    "colab": {
     "base_uri": "https://localhost:8080/"
    },
    "id": "478aD1kpnJ3R",
    "outputId": "8dea1fc7-6bcd-489a-9257-9e139ea23115"
   },
   "outputs": [
    {
     "data": {
      "text/plain": [
       "(19874, 187)"
      ]
     },
     "execution_count": 27,
     "metadata": {
      "tags": []
     },
     "output_type": "execute_result"
    }
   ],
   "source": [
    "x_train.shape"
   ]
  },
  {
   "cell_type": "code",
   "execution_count": null,
   "metadata": {
    "colab": {
     "base_uri": "https://localhost:8080/"
    },
    "id": "jtd9dTZihI7m",
    "outputId": "946ef981-7e93-4fa5-c3c6-a83c1519a2cc"
   },
   "outputs": [
    {
     "name": "stdout",
     "output_type": "stream",
     "text": [
      "(19874, 187, 1)\n",
      "(2209, 187, 1)\n"
     ]
    }
   ],
   "source": [
    "# dimentionality should be 187 X 1 where 187 is number of features and 1 = 1D Dimentionality of data\n",
    "\n",
    "x_train = np.array(x_train).reshape(x_train.shape[0], x_train.shape[1], 1)\n",
    "x_val = np.array(x_val).reshape(x_val.shape[0], x_val.shape[1], 1)\n",
    "\n",
    "print(x_train.shape)\n",
    "print(x_val.shape)"
   ]
  },
  {
   "cell_type": "markdown",
   "metadata": {
    "id": "9Scmp3FedvSX"
   },
   "source": [
    "# **Build CNN Architecture**"
   ]
  },
  {
   "cell_type": "markdown",
   "metadata": {
    "id": "NIHCRNnhlBbD"
   },
   "source": [
    "## **Architecture 1**"
   ]
  },
  {
   "cell_type": "code",
   "execution_count": null,
   "metadata": {
    "id": "RUeC9HS_hxRT"
   },
   "outputs": [],
   "source": [
    "model = Sequential()\n",
    "\n",
    "model.add(Conv1D(filters=64 , kernel_size=(3,) , padding='same' , activation='relu' , input_shape=(x_train.shape[1],1)))\n",
    "\n",
    "model.add(Conv1D(filters=32 , kernel_size=(3,) , padding='same' , activation='relu' ))\n",
    "\n",
    "model.add(MaxPool1D(pool_size=(3,)))\n",
    "\n",
    "model.add(Conv1D(filters=16 , kernel_size=(3,) , padding='same' , activation='relu' ))\n",
    "\n",
    "model.add(MaxPool1D(pool_size=(3,)))\n",
    "\n",
    "model.add(Dropout(0.5))\n",
    "\n",
    "model.add(Flatten())  # input layer to fully connected layer\n",
    "\n",
    "model.add(Dense(units=128 , activation='relu'))    # Hidden Layer\n",
    "model.add(Dense(units=512 , activation='relu'))    # Hidden Layer\n",
    "\n",
    "model.add(Dense(units=5 , activation='softmax'))    # Output Layer\n",
    "model.load_weights(\"/content/drive/MyDrive/Colab Notebooks/saved-model/saved-model_1/best-model\")\n",
    "model.compile(optimizer='adam' , loss='sparse_categorical_crossentropy' ,  metrics=(['accuracy']))"
   ]
  },
  {
   "cell_type": "code",
   "execution_count": null,
   "metadata": {
    "colab": {
     "base_uri": "https://localhost:8080/"
    },
    "id": "TVdweCZhvaoY",
    "outputId": "f46a9434-329c-4aa7-ff86-b5b91fc6097b"
   },
   "outputs": [
    {
     "name": "stdout",
     "output_type": "stream",
     "text": [
      "Epoch 1/25\n",
      "622/622 [==============================] - 6s 7ms/step - loss: 0.8875 - accuracy: 0.6439 - val_loss: 0.3917 - val_accuracy: 0.8538\n",
      "\n",
      "Epoch 00001: val_loss improved from inf to 0.39170, saving model to saved-model_1/best-model\n",
      "Epoch 2/25\n",
      "622/622 [==============================] - 4s 6ms/step - loss: 0.4238 - accuracy: 0.8512 - val_loss: 0.2996 - val_accuracy: 0.8904\n",
      "\n",
      "Epoch 00002: val_loss improved from 0.39170 to 0.29959, saving model to saved-model_1/best-model\n",
      "Epoch 3/25\n",
      "622/622 [==============================] - 4s 6ms/step - loss: 0.3496 - accuracy: 0.8785 - val_loss: 0.2574 - val_accuracy: 0.9036\n",
      "\n",
      "Epoch 00003: val_loss improved from 0.29959 to 0.25741, saving model to saved-model_1/best-model\n",
      "Epoch 4/25\n",
      "622/622 [==============================] - 4s 6ms/step - loss: 0.3124 - accuracy: 0.8890 - val_loss: 0.2454 - val_accuracy: 0.9135\n",
      "\n",
      "Epoch 00004: val_loss improved from 0.25741 to 0.24538, saving model to saved-model_1/best-model\n",
      "Epoch 5/25\n",
      "622/622 [==============================] - 4s 6ms/step - loss: 0.2715 - accuracy: 0.9054 - val_loss: 0.2320 - val_accuracy: 0.9144\n",
      "\n",
      "Epoch 00005: val_loss improved from 0.24538 to 0.23202, saving model to saved-model_1/best-model\n",
      "Epoch 6/25\n",
      "622/622 [==============================] - 4s 6ms/step - loss: 0.2642 - accuracy: 0.9078 - val_loss: 0.1987 - val_accuracy: 0.9289\n",
      "\n",
      "Epoch 00006: val_loss improved from 0.23202 to 0.19873, saving model to saved-model_1/best-model\n",
      "Epoch 7/25\n",
      "622/622 [==============================] - 4s 6ms/step - loss: 0.2416 - accuracy: 0.9167 - val_loss: 0.1951 - val_accuracy: 0.9289\n",
      "\n",
      "Epoch 00007: val_loss improved from 0.19873 to 0.19506, saving model to saved-model_1/best-model\n",
      "Epoch 8/25\n",
      "622/622 [==============================] - 4s 6ms/step - loss: 0.2242 - accuracy: 0.9200 - val_loss: 0.1824 - val_accuracy: 0.9371\n",
      "\n",
      "Epoch 00008: val_loss improved from 0.19506 to 0.18244, saving model to saved-model_1/best-model\n",
      "Epoch 9/25\n",
      "622/622 [==============================] - 4s 6ms/step - loss: 0.2194 - accuracy: 0.9213 - val_loss: 0.1867 - val_accuracy: 0.9312\n",
      "\n",
      "Epoch 00009: val_loss did not improve from 0.18244\n",
      "Epoch 10/25\n",
      "622/622 [==============================] - 4s 6ms/step - loss: 0.2118 - accuracy: 0.9261 - val_loss: 0.1666 - val_accuracy: 0.9411\n",
      "\n",
      "Epoch 00010: val_loss improved from 0.18244 to 0.16663, saving model to saved-model_1/best-model\n",
      "Epoch 11/25\n",
      "622/622 [==============================] - 4s 6ms/step - loss: 0.2052 - accuracy: 0.9269 - val_loss: 0.1531 - val_accuracy: 0.9461\n",
      "\n",
      "Epoch 00011: val_loss improved from 0.16663 to 0.15311, saving model to saved-model_1/best-model\n",
      "Epoch 12/25\n",
      "622/622 [==============================] - 4s 6ms/step - loss: 0.1981 - accuracy: 0.9299 - val_loss: 0.1660 - val_accuracy: 0.9411\n",
      "\n",
      "Epoch 00012: val_loss did not improve from 0.15311\n",
      "Epoch 13/25\n",
      "622/622 [==============================] - 4s 6ms/step - loss: 0.1832 - accuracy: 0.9369 - val_loss: 0.1546 - val_accuracy: 0.9421\n",
      "\n",
      "Epoch 00013: val_loss did not improve from 0.15311\n",
      "Epoch 14/25\n",
      "622/622 [==============================] - 4s 6ms/step - loss: 0.1819 - accuracy: 0.9361 - val_loss: 0.1423 - val_accuracy: 0.9484\n",
      "\n",
      "Epoch 00014: val_loss improved from 0.15311 to 0.14225, saving model to saved-model_1/best-model\n",
      "Epoch 15/25\n",
      "622/622 [==============================] - 4s 6ms/step - loss: 0.1713 - accuracy: 0.9383 - val_loss: 0.1400 - val_accuracy: 0.9529\n",
      "\n",
      "Epoch 00015: val_loss improved from 0.14225 to 0.13998, saving model to saved-model_1/best-model\n",
      "Epoch 16/25\n",
      "622/622 [==============================] - 4s 6ms/step - loss: 0.1673 - accuracy: 0.9391 - val_loss: 0.1342 - val_accuracy: 0.9534\n",
      "\n",
      "Epoch 00016: val_loss improved from 0.13998 to 0.13416, saving model to saved-model_1/best-model\n",
      "Epoch 17/25\n",
      "622/622 [==============================] - 4s 6ms/step - loss: 0.1701 - accuracy: 0.9388 - val_loss: 0.1407 - val_accuracy: 0.9475\n",
      "\n",
      "Epoch 00017: val_loss did not improve from 0.13416\n",
      "Epoch 18/25\n",
      "622/622 [==============================] - 4s 6ms/step - loss: 0.1703 - accuracy: 0.9381 - val_loss: 0.1461 - val_accuracy: 0.9448\n",
      "\n",
      "Epoch 00018: val_loss did not improve from 0.13416\n",
      "Epoch 19/25\n",
      "622/622 [==============================] - 4s 6ms/step - loss: 0.1502 - accuracy: 0.9452 - val_loss: 0.1407 - val_accuracy: 0.9488\n",
      "\n",
      "Epoch 00019: val_loss did not improve from 0.13416\n",
      "Epoch 20/25\n",
      "622/622 [==============================] - 4s 6ms/step - loss: 0.1526 - accuracy: 0.9438 - val_loss: 0.1416 - val_accuracy: 0.9498\n",
      "\n",
      "Epoch 00020: val_loss did not improve from 0.13416\n",
      "Epoch 21/25\n",
      "622/622 [==============================] - 4s 6ms/step - loss: 0.1480 - accuracy: 0.9475 - val_loss: 0.1373 - val_accuracy: 0.9547\n",
      "\n",
      "Epoch 00021: val_loss did not improve from 0.13416\n",
      "Epoch 22/25\n",
      "622/622 [==============================] - 4s 6ms/step - loss: 0.1409 - accuracy: 0.9490 - val_loss: 0.1445 - val_accuracy: 0.9470\n",
      "\n",
      "Epoch 00022: val_loss did not improve from 0.13416\n",
      "Epoch 23/25\n",
      "622/622 [==============================] - 4s 6ms/step - loss: 0.1615 - accuracy: 0.9432 - val_loss: 0.1317 - val_accuracy: 0.9534\n",
      "\n",
      "Epoch 00023: val_loss improved from 0.13416 to 0.13165, saving model to saved-model_1/best-model\n",
      "Epoch 24/25\n",
      "622/622 [==============================] - 4s 6ms/step - loss: 0.1461 - accuracy: 0.9484 - val_loss: 0.1265 - val_accuracy: 0.9561\n",
      "\n",
      "Epoch 00024: val_loss improved from 0.13165 to 0.12648, saving model to saved-model_1/best-model\n",
      "Epoch 25/25\n",
      "622/622 [==============================] - 4s 6ms/step - loss: 0.1316 - accuracy: 0.9523 - val_loss: 0.1278 - val_accuracy: 0.9556\n",
      "\n",
      "Epoch 00025: val_loss did not improve from 0.12648\n"
     ]
    }
   ],
   "source": [
    "from tensorflow.keras.callbacks import ModelCheckpoint\n",
    "\n",
    "checkpoint = ModelCheckpoint(\n",
    "    'saved-model_1/best-model', monitor='val_loss', mode='min',\n",
    "    save_weights_only=True, save_best_only=True, verbose=1\n",
    ")\n",
    "\n",
    "\n",
    "history = model.fit(x_train , y_train , epochs=25,validation_data=(x_val , y_val),callbacks=[checkpoint])"
   ]
  },
  {
   "cell_type": "markdown",
   "metadata": {
    "id": "ZRjVsCQvl6ri"
   },
   "source": [
    "## **Architecture 2**"
   ]
  },
  {
   "cell_type": "code",
   "execution_count": null,
   "metadata": {
    "colab": {
     "base_uri": "https://localhost:8080/",
     "height": 497
    },
    "id": "Ca3p_FXfnQ3V",
    "outputId": "9ec6c635-46f9-48e4-e975-9df3ae2b6d2d"
   },
   "outputs": [
    {
     "name": "stdout",
     "output_type": "stream",
     "text": [
      "WARNING:tensorflow:Inconsistent references when loading the checkpoint into this object graph. Either the Trackable object references in the Python program have changed in an incompatible way, or the checkpoint was generated in an incompatible program.\n",
      "\n",
      "Two checkpoint references resolved to different objects (<keras.layers.convolutional.Conv1D object at 0x7f40e04689d0> and <keras.layers.pooling.MaxPooling1D object at 0x7f40ed0b54d0>).\n",
      "WARNING:tensorflow:Inconsistent references when loading the checkpoint into this object graph. Either the Trackable object references in the Python program have changed in an incompatible way, or the checkpoint was generated in an incompatible program.\n",
      "\n",
      "Two checkpoint references resolved to different objects (<keras.layers.core.Dense object at 0x7f40f71415d0> and <keras.layers.convolutional.Conv1D object at 0x7f40e04689d0>).\n"
     ]
    },
    {
     "ename": "ValueError",
     "evalue": "ignored",
     "output_type": "error",
     "traceback": [
      "\u001b[0;31m---------------------------------------------------------------------------\u001b[0m",
      "\u001b[0;31mValueError\u001b[0m                                Traceback (most recent call last)",
      "\u001b[0;32m<ipython-input-32-1b6547ea5138>\u001b[0m in \u001b[0;36m<module>\u001b[0;34m()\u001b[0m\n\u001b[1;32m     16\u001b[0m \u001b[0;34m\u001b[0m\u001b[0m\n\u001b[1;32m     17\u001b[0m \u001b[0mmodel2\u001b[0m\u001b[0;34m.\u001b[0m\u001b[0madd\u001b[0m\u001b[0;34m(\u001b[0m\u001b[0mFlatten\u001b[0m\u001b[0;34m(\u001b[0m\u001b[0;34m)\u001b[0m\u001b[0;34m)\u001b[0m  \u001b[0;31m# input layer to fully connected layer\u001b[0m\u001b[0;34m\u001b[0m\u001b[0;34m\u001b[0m\u001b[0m\n\u001b[0;32m---> 18\u001b[0;31m \u001b[0mmodel\u001b[0m\u001b[0;34m.\u001b[0m\u001b[0mload_weights\u001b[0m\u001b[0;34m(\u001b[0m\u001b[0;34m\"/content/drive/MyDrive/Colab Notebooks/saved-model/saved-model_2/best-model\"\u001b[0m\u001b[0;34m)\u001b[0m\u001b[0;34m\u001b[0m\u001b[0;34m\u001b[0m\u001b[0m\n\u001b[0m\u001b[1;32m     19\u001b[0m \u001b[0;34m\u001b[0m\u001b[0m\n\u001b[1;32m     20\u001b[0m \u001b[0mmodel2\u001b[0m\u001b[0;34m.\u001b[0m\u001b[0madd\u001b[0m\u001b[0;34m(\u001b[0m\u001b[0mDense\u001b[0m\u001b[0;34m(\u001b[0m\u001b[0munits\u001b[0m\u001b[0;34m=\u001b[0m\u001b[0;36m512\u001b[0m \u001b[0;34m,\u001b[0m \u001b[0mactivation\u001b[0m\u001b[0;34m=\u001b[0m\u001b[0;34m'relu'\u001b[0m\u001b[0;34m)\u001b[0m\u001b[0;34m)\u001b[0m    \u001b[0;31m# Hidden Layer\u001b[0m\u001b[0;34m\u001b[0m\u001b[0;34m\u001b[0m\u001b[0m\n",
      "\u001b[0;32m/usr/local/lib/python3.7/dist-packages/keras/engine/training.py\u001b[0m in \u001b[0;36mload_weights\u001b[0;34m(self, filepath, by_name, skip_mismatch, options)\u001b[0m\n\u001b[1;32m   2270\u001b[0m     \u001b[0mfilepath\u001b[0m\u001b[0;34m,\u001b[0m \u001b[0msave_format\u001b[0m \u001b[0;34m=\u001b[0m \u001b[0m_detect_save_format\u001b[0m\u001b[0;34m(\u001b[0m\u001b[0mfilepath\u001b[0m\u001b[0;34m)\u001b[0m\u001b[0;34m\u001b[0m\u001b[0;34m\u001b[0m\u001b[0m\n\u001b[1;32m   2271\u001b[0m     \u001b[0;32mif\u001b[0m \u001b[0msave_format\u001b[0m \u001b[0;34m==\u001b[0m \u001b[0;34m'tf'\u001b[0m\u001b[0;34m:\u001b[0m\u001b[0;34m\u001b[0m\u001b[0;34m\u001b[0m\u001b[0m\n\u001b[0;32m-> 2272\u001b[0;31m       \u001b[0mstatus\u001b[0m \u001b[0;34m=\u001b[0m \u001b[0mself\u001b[0m\u001b[0;34m.\u001b[0m\u001b[0m_trackable_saver\u001b[0m\u001b[0;34m.\u001b[0m\u001b[0mrestore\u001b[0m\u001b[0;34m(\u001b[0m\u001b[0mfilepath\u001b[0m\u001b[0;34m,\u001b[0m \u001b[0moptions\u001b[0m\u001b[0;34m)\u001b[0m\u001b[0;34m\u001b[0m\u001b[0;34m\u001b[0m\u001b[0m\n\u001b[0m\u001b[1;32m   2273\u001b[0m       \u001b[0;32mif\u001b[0m \u001b[0mby_name\u001b[0m\u001b[0;34m:\u001b[0m\u001b[0;34m\u001b[0m\u001b[0;34m\u001b[0m\u001b[0m\n\u001b[1;32m   2274\u001b[0m         raise NotImplementedError(\n",
      "\u001b[0;32m/usr/local/lib/python3.7/dist-packages/tensorflow/python/training/tracking/util.py\u001b[0m in \u001b[0;36mrestore\u001b[0;34m(self, save_path, options)\u001b[0m\n\u001b[1;32m   1337\u001b[0m         options=options)\n\u001b[1;32m   1338\u001b[0m     base.CheckpointPosition(\n\u001b[0;32m-> 1339\u001b[0;31m         checkpoint=checkpoint, proto_id=0).restore(self._graph_view.root)\n\u001b[0m\u001b[1;32m   1340\u001b[0m \u001b[0;34m\u001b[0m\u001b[0m\n\u001b[1;32m   1341\u001b[0m     \u001b[0;31m# Attached dependencies are not attached to the root, so should be restored\u001b[0m\u001b[0;34m\u001b[0m\u001b[0;34m\u001b[0m\u001b[0;34m\u001b[0m\u001b[0m\n",
      "\u001b[0;32m/usr/local/lib/python3.7/dist-packages/tensorflow/python/training/tracking/base.py\u001b[0m in \u001b[0;36mrestore\u001b[0;34m(self, trackable)\u001b[0m\n\u001b[1;32m    256\u001b[0m         \u001b[0;31m# This object's correspondence with a checkpointed object is new, so\u001b[0m\u001b[0;34m\u001b[0m\u001b[0;34m\u001b[0m\u001b[0;34m\u001b[0m\u001b[0m\n\u001b[1;32m    257\u001b[0m         \u001b[0;31m# process deferred restorations for it and its dependencies.\u001b[0m\u001b[0;34m\u001b[0m\u001b[0;34m\u001b[0m\u001b[0;34m\u001b[0m\u001b[0m\n\u001b[0;32m--> 258\u001b[0;31m         \u001b[0mrestore_ops\u001b[0m \u001b[0;34m=\u001b[0m \u001b[0mtrackable\u001b[0m\u001b[0;34m.\u001b[0m\u001b[0m_restore_from_checkpoint_position\u001b[0m\u001b[0;34m(\u001b[0m\u001b[0mself\u001b[0m\u001b[0;34m)\u001b[0m  \u001b[0;31m# pylint: disable=protected-access\u001b[0m\u001b[0;34m\u001b[0m\u001b[0;34m\u001b[0m\u001b[0m\n\u001b[0m\u001b[1;32m    259\u001b[0m         \u001b[0;32mif\u001b[0m \u001b[0mrestore_ops\u001b[0m\u001b[0;34m:\u001b[0m\u001b[0;34m\u001b[0m\u001b[0;34m\u001b[0m\u001b[0m\n\u001b[1;32m    260\u001b[0m           \u001b[0mself\u001b[0m\u001b[0;34m.\u001b[0m\u001b[0m_checkpoint\u001b[0m\u001b[0;34m.\u001b[0m\u001b[0mnew_restore_ops\u001b[0m\u001b[0;34m(\u001b[0m\u001b[0mrestore_ops\u001b[0m\u001b[0;34m)\u001b[0m\u001b[0;34m\u001b[0m\u001b[0;34m\u001b[0m\u001b[0m\n",
      "\u001b[0;32m/usr/local/lib/python3.7/dist-packages/tensorflow/python/training/tracking/base.py\u001b[0m in \u001b[0;36m_restore_from_checkpoint_position\u001b[0;34m(self, checkpoint_position)\u001b[0m\n\u001b[1;32m    976\u001b[0m     restore_ops.extend(\n\u001b[1;32m    977\u001b[0m         current_position.checkpoint.restore_saveables(\n\u001b[0;32m--> 978\u001b[0;31m             tensor_saveables, python_saveables))\n\u001b[0m\u001b[1;32m    979\u001b[0m     \u001b[0;32mreturn\u001b[0m \u001b[0mrestore_ops\u001b[0m\u001b[0;34m\u001b[0m\u001b[0;34m\u001b[0m\u001b[0m\n\u001b[1;32m    980\u001b[0m \u001b[0;34m\u001b[0m\u001b[0m\n",
      "\u001b[0;32m/usr/local/lib/python3.7/dist-packages/tensorflow/python/training/tracking/util.py\u001b[0m in \u001b[0;36mrestore_saveables\u001b[0;34m(self, tensor_saveables, python_saveables)\u001b[0m\n\u001b[1;32m    307\u001b[0m              \"expecting %s\") % (tensor_saveables.keys(), validated_names))\n\u001b[1;32m    308\u001b[0m       new_restore_ops = functional_saver.MultiDeviceSaver(\n\u001b[0;32m--> 309\u001b[0;31m           validated_saveables).restore(self.save_path_tensor, self.options)\n\u001b[0m\u001b[1;32m    310\u001b[0m       \u001b[0;32mif\u001b[0m \u001b[0;32mnot\u001b[0m \u001b[0mcontext\u001b[0m\u001b[0;34m.\u001b[0m\u001b[0mexecuting_eagerly\u001b[0m\u001b[0;34m(\u001b[0m\u001b[0;34m)\u001b[0m\u001b[0;34m:\u001b[0m\u001b[0;34m\u001b[0m\u001b[0;34m\u001b[0m\u001b[0m\n\u001b[1;32m    311\u001b[0m         \u001b[0;32mfor\u001b[0m \u001b[0mname\u001b[0m\u001b[0;34m,\u001b[0m \u001b[0mrestore_op\u001b[0m \u001b[0;32min\u001b[0m \u001b[0msorted\u001b[0m\u001b[0;34m(\u001b[0m\u001b[0mnew_restore_ops\u001b[0m\u001b[0;34m.\u001b[0m\u001b[0mitems\u001b[0m\u001b[0;34m(\u001b[0m\u001b[0;34m)\u001b[0m\u001b[0;34m)\u001b[0m\u001b[0;34m:\u001b[0m\u001b[0;34m\u001b[0m\u001b[0;34m\u001b[0m\u001b[0m\n",
      "\u001b[0;32m/usr/local/lib/python3.7/dist-packages/tensorflow/python/training/saving/functional_saver.py\u001b[0m in \u001b[0;36mrestore\u001b[0;34m(self, file_prefix, options)\u001b[0m\n\u001b[1;32m    337\u001b[0m       \u001b[0mrestore_ops\u001b[0m \u001b[0;34m=\u001b[0m \u001b[0mtf_function_restore\u001b[0m\u001b[0;34m(\u001b[0m\u001b[0;34m)\u001b[0m\u001b[0;34m\u001b[0m\u001b[0;34m\u001b[0m\u001b[0m\n\u001b[1;32m    338\u001b[0m     \u001b[0;32melse\u001b[0m\u001b[0;34m:\u001b[0m\u001b[0;34m\u001b[0m\u001b[0;34m\u001b[0m\u001b[0m\n\u001b[0;32m--> 339\u001b[0;31m       \u001b[0mrestore_ops\u001b[0m \u001b[0;34m=\u001b[0m \u001b[0mrestore_fn\u001b[0m\u001b[0;34m(\u001b[0m\u001b[0;34m)\u001b[0m\u001b[0;34m\u001b[0m\u001b[0;34m\u001b[0m\u001b[0m\n\u001b[0m\u001b[1;32m    340\u001b[0m \u001b[0;34m\u001b[0m\u001b[0m\n\u001b[1;32m    341\u001b[0m     \u001b[0;32mfor\u001b[0m \u001b[0mcallback\u001b[0m \u001b[0;32min\u001b[0m \u001b[0mself\u001b[0m\u001b[0;34m.\u001b[0m\u001b[0m_after_restore_callbacks\u001b[0m\u001b[0;34m:\u001b[0m\u001b[0;34m\u001b[0m\u001b[0;34m\u001b[0m\u001b[0m\n",
      "\u001b[0;32m/usr/local/lib/python3.7/dist-packages/tensorflow/python/training/saving/functional_saver.py\u001b[0m in \u001b[0;36mrestore_fn\u001b[0;34m()\u001b[0m\n\u001b[1;32m    321\u001b[0m       \u001b[0;32mfor\u001b[0m \u001b[0mdevice\u001b[0m\u001b[0;34m,\u001b[0m \u001b[0msaver\u001b[0m \u001b[0;32min\u001b[0m \u001b[0msorted\u001b[0m\u001b[0;34m(\u001b[0m\u001b[0mself\u001b[0m\u001b[0;34m.\u001b[0m\u001b[0m_single_device_savers\u001b[0m\u001b[0;34m.\u001b[0m\u001b[0mitems\u001b[0m\u001b[0;34m(\u001b[0m\u001b[0;34m)\u001b[0m\u001b[0;34m)\u001b[0m\u001b[0;34m:\u001b[0m\u001b[0;34m\u001b[0m\u001b[0;34m\u001b[0m\u001b[0m\n\u001b[1;32m    322\u001b[0m         \u001b[0;32mwith\u001b[0m \u001b[0mops\u001b[0m\u001b[0;34m.\u001b[0m\u001b[0mdevice\u001b[0m\u001b[0;34m(\u001b[0m\u001b[0mdevice\u001b[0m\u001b[0;34m)\u001b[0m\u001b[0;34m:\u001b[0m\u001b[0;34m\u001b[0m\u001b[0;34m\u001b[0m\u001b[0m\n\u001b[0;32m--> 323\u001b[0;31m           \u001b[0mrestore_ops\u001b[0m\u001b[0;34m.\u001b[0m\u001b[0mupdate\u001b[0m\u001b[0;34m(\u001b[0m\u001b[0msaver\u001b[0m\u001b[0;34m.\u001b[0m\u001b[0mrestore\u001b[0m\u001b[0;34m(\u001b[0m\u001b[0mfile_prefix\u001b[0m\u001b[0;34m,\u001b[0m \u001b[0moptions\u001b[0m\u001b[0;34m)\u001b[0m\u001b[0;34m)\u001b[0m\u001b[0;34m\u001b[0m\u001b[0;34m\u001b[0m\u001b[0m\n\u001b[0m\u001b[1;32m    324\u001b[0m \u001b[0;34m\u001b[0m\u001b[0m\n\u001b[1;32m    325\u001b[0m       \u001b[0;32mreturn\u001b[0m \u001b[0mrestore_ops\u001b[0m\u001b[0;34m\u001b[0m\u001b[0;34m\u001b[0m\u001b[0m\n",
      "\u001b[0;32m/usr/local/lib/python3.7/dist-packages/tensorflow/python/training/saving/functional_saver.py\u001b[0m in \u001b[0;36mrestore\u001b[0;34m(self, file_prefix, options)\u001b[0m\n\u001b[1;32m    114\u001b[0m                                           structured_restored_tensors):\n\u001b[1;32m    115\u001b[0m       restore_ops[saveable.name] = saveable.restore(\n\u001b[0;32m--> 116\u001b[0;31m           restored_tensors, restored_shapes=None)\n\u001b[0m\u001b[1;32m    117\u001b[0m     \u001b[0;32mreturn\u001b[0m \u001b[0mrestore_ops\u001b[0m\u001b[0;34m\u001b[0m\u001b[0;34m\u001b[0m\u001b[0m\n\u001b[1;32m    118\u001b[0m \u001b[0;34m\u001b[0m\u001b[0m\n",
      "\u001b[0;32m/usr/local/lib/python3.7/dist-packages/tensorflow/python/training/saving/saveable_object_util.py\u001b[0m in \u001b[0;36mrestore\u001b[0;34m(self, restored_tensors, restored_shapes)\u001b[0m\n\u001b[1;32m    130\u001b[0m       \u001b[0mrestored_tensor\u001b[0m \u001b[0;34m=\u001b[0m \u001b[0marray_ops\u001b[0m\u001b[0;34m.\u001b[0m\u001b[0midentity\u001b[0m\u001b[0;34m(\u001b[0m\u001b[0mrestored_tensor\u001b[0m\u001b[0;34m)\u001b[0m\u001b[0;34m\u001b[0m\u001b[0;34m\u001b[0m\u001b[0m\n\u001b[1;32m    131\u001b[0m       return resource_variable_ops.shape_safe_assign_variable_handle(\n\u001b[0;32m--> 132\u001b[0;31m           self.handle_op, self._var_shape, restored_tensor)\n\u001b[0m\u001b[1;32m    133\u001b[0m \u001b[0;34m\u001b[0m\u001b[0m\n\u001b[1;32m    134\u001b[0m \u001b[0;34m\u001b[0m\u001b[0m\n",
      "\u001b[0;32m/usr/local/lib/python3.7/dist-packages/tensorflow/python/ops/resource_variable_ops.py\u001b[0m in \u001b[0;36mshape_safe_assign_variable_handle\u001b[0;34m(handle, shape, value, name)\u001b[0m\n\u001b[1;32m    306\u001b[0m   \u001b[0;32mwith\u001b[0m \u001b[0m_handle_graph\u001b[0m\u001b[0;34m(\u001b[0m\u001b[0mhandle\u001b[0m\u001b[0;34m)\u001b[0m\u001b[0;34m:\u001b[0m\u001b[0;34m\u001b[0m\u001b[0;34m\u001b[0m\u001b[0m\n\u001b[1;32m    307\u001b[0m     \u001b[0mvalue_tensor\u001b[0m \u001b[0;34m=\u001b[0m \u001b[0mops\u001b[0m\u001b[0;34m.\u001b[0m\u001b[0mconvert_to_tensor\u001b[0m\u001b[0;34m(\u001b[0m\u001b[0mvalue\u001b[0m\u001b[0;34m)\u001b[0m\u001b[0;34m\u001b[0m\u001b[0;34m\u001b[0m\u001b[0m\n\u001b[0;32m--> 308\u001b[0;31m   \u001b[0mshape\u001b[0m\u001b[0;34m.\u001b[0m\u001b[0massert_is_compatible_with\u001b[0m\u001b[0;34m(\u001b[0m\u001b[0mvalue_tensor\u001b[0m\u001b[0;34m.\u001b[0m\u001b[0mshape\u001b[0m\u001b[0;34m)\u001b[0m\u001b[0;34m\u001b[0m\u001b[0;34m\u001b[0m\u001b[0m\n\u001b[0m\u001b[1;32m    309\u001b[0m   return gen_resource_variable_ops.assign_variable_op(\n\u001b[1;32m    310\u001b[0m       handle, value_tensor, name=name)\n",
      "\u001b[0;32m/usr/local/lib/python3.7/dist-packages/tensorflow/python/framework/tensor_shape.py\u001b[0m in \u001b[0;36massert_is_compatible_with\u001b[0;34m(self, other)\u001b[0m\n\u001b[1;32m   1159\u001b[0m     \"\"\"\n\u001b[1;32m   1160\u001b[0m     \u001b[0;32mif\u001b[0m \u001b[0;32mnot\u001b[0m \u001b[0mself\u001b[0m\u001b[0;34m.\u001b[0m\u001b[0mis_compatible_with\u001b[0m\u001b[0;34m(\u001b[0m\u001b[0mother\u001b[0m\u001b[0;34m)\u001b[0m\u001b[0;34m:\u001b[0m\u001b[0;34m\u001b[0m\u001b[0;34m\u001b[0m\u001b[0m\n\u001b[0;32m-> 1161\u001b[0;31m       \u001b[0;32mraise\u001b[0m \u001b[0mValueError\u001b[0m\u001b[0;34m(\u001b[0m\u001b[0;34m\"Shapes %s and %s are incompatible\"\u001b[0m \u001b[0;34m%\u001b[0m \u001b[0;34m(\u001b[0m\u001b[0mself\u001b[0m\u001b[0;34m,\u001b[0m \u001b[0mother\u001b[0m\u001b[0;34m)\u001b[0m\u001b[0;34m)\u001b[0m\u001b[0;34m\u001b[0m\u001b[0;34m\u001b[0m\u001b[0m\n\u001b[0m\u001b[1;32m   1162\u001b[0m \u001b[0;34m\u001b[0m\u001b[0m\n\u001b[1;32m   1163\u001b[0m   \u001b[0;32mdef\u001b[0m \u001b[0mmost_specific_compatible_shape\u001b[0m\u001b[0;34m(\u001b[0m\u001b[0mself\u001b[0m\u001b[0;34m,\u001b[0m \u001b[0mother\u001b[0m\u001b[0;34m)\u001b[0m\u001b[0;34m:\u001b[0m\u001b[0;34m\u001b[0m\u001b[0;34m\u001b[0m\u001b[0m\n",
      "\u001b[0;31mValueError\u001b[0m: Shapes (64,) and (512,) are incompatible"
     ]
    }
   ],
   "source": [
    "model2 = Sequential()\n",
    "\n",
    "model2.add(Conv1D(filters=512 , kernel_size=(3,) , padding='same' , activation='relu' , input_shape=(x_train.shape[1],1)))\n",
    "\n",
    "model2.add(Conv1D(filters=265 , kernel_size=(3,) , padding='same' , activation='relu' ))\n",
    "\n",
    "model2.add(Conv1D(filters=128 , kernel_size=(3,) , padding='same' , activation='relu' ))\n",
    "\n",
    "model2.add(Conv1D(filters=64 , kernel_size=(3,) , padding='same' , activation='relu' ))\n",
    "\n",
    "model2.add(MaxPool1D(pool_size=(3,)))\n",
    "\n",
    "model2.add(MaxPool1D(pool_size=(3,)))\n",
    "\n",
    "model2.add(Dropout(0.7))\n",
    "\n",
    "model2.add(Flatten())  # input layer to fully connected layer\n",
    "model.load_weights(\"/content/drive/MyDrive/Colab Notebooks/saved-model/saved-model_2/best-model\")\n",
    "\n",
    "model2.add(Dense(units=512 , activation='relu'))    # Hidden Layer\n",
    "model2.add(Dense(units=1024 , activation='relu'))    # Hidden Layer\n",
    "model2.add(Dense(units=512 , activation='relu'))    # Hidden Layer\n",
    "\n",
    "model2.add(Dense(units=5 , activation='softmax'))    # Output Layer\n",
    "\n",
    "\n",
    "model2.compile(optimizer='adam' , loss='sparse_categorical_crossentropy' ,  metrics=(['accuracy']))\n",
    "\n",
    "\n"
   ]
  },
  {
   "cell_type": "markdown",
   "metadata": {
    "id": "OBftG_D1vszt"
   },
   "source": [
    "## **Architecture 3**"
   ]
  },
  {
   "cell_type": "code",
   "execution_count": null,
   "metadata": {
    "colab": {
     "base_uri": "https://localhost:8080/"
    },
    "id": "7lSDfOaqvszu",
    "outputId": "62584d31-1276-4a02-820e-d5a9a1823669"
   },
   "outputs": [
    {
     "name": "stdout",
     "output_type": "stream",
     "text": [
      "Epoch 1/25\n",
      "622/622 [==============================] - 7s 9ms/step - loss: 0.7945 - accuracy: 0.6882 - val_loss: 0.3881 - val_accuracy: 0.8529\n",
      "\n",
      "Epoch 00001: val_loss improved from inf to 0.38815, saving model to saved-model_3/best-model\n",
      "Epoch 2/25\n",
      "622/622 [==============================] - 5s 8ms/step - loss: 0.2995 - accuracy: 0.8985 - val_loss: 0.2599 - val_accuracy: 0.9108\n",
      "\n",
      "Epoch 00002: val_loss improved from 0.38815 to 0.25989, saving model to saved-model_3/best-model\n",
      "Epoch 3/25\n",
      "622/622 [==============================] - 5s 8ms/step - loss: 0.2455 - accuracy: 0.9181 - val_loss: 0.2356 - val_accuracy: 0.9185\n",
      "\n",
      "Epoch 00003: val_loss improved from 0.25989 to 0.23560, saving model to saved-model_3/best-model\n",
      "Epoch 4/25\n",
      "622/622 [==============================] - 5s 8ms/step - loss: 0.2122 - accuracy: 0.9290 - val_loss: 0.2196 - val_accuracy: 0.9244\n",
      "\n",
      "Epoch 00004: val_loss improved from 0.23560 to 0.21964, saving model to saved-model_3/best-model\n",
      "Epoch 5/25\n",
      "622/622 [==============================] - 5s 8ms/step - loss: 0.1675 - accuracy: 0.9435 - val_loss: 0.2004 - val_accuracy: 0.9303\n",
      "\n",
      "Epoch 00005: val_loss improved from 0.21964 to 0.20039, saving model to saved-model_3/best-model\n",
      "Epoch 6/25\n",
      "622/622 [==============================] - 5s 8ms/step - loss: 0.1667 - accuracy: 0.9415 - val_loss: 0.2420 - val_accuracy: 0.9280\n",
      "\n",
      "Epoch 00006: val_loss did not improve from 0.20039\n",
      "Epoch 7/25\n",
      "622/622 [==============================] - 5s 8ms/step - loss: 0.1477 - accuracy: 0.9515 - val_loss: 0.1770 - val_accuracy: 0.9434\n",
      "\n",
      "Epoch 00007: val_loss improved from 0.20039 to 0.17702, saving model to saved-model_3/best-model\n",
      "Epoch 8/25\n",
      "622/622 [==============================] - 5s 8ms/step - loss: 0.1274 - accuracy: 0.9556 - val_loss: 0.1790 - val_accuracy: 0.9443\n",
      "\n",
      "Epoch 00008: val_loss did not improve from 0.17702\n",
      "Epoch 9/25\n",
      "622/622 [==============================] - 5s 8ms/step - loss: 0.1150 - accuracy: 0.9577 - val_loss: 0.1684 - val_accuracy: 0.9461\n",
      "\n",
      "Epoch 00009: val_loss improved from 0.17702 to 0.16843, saving model to saved-model_3/best-model\n",
      "Epoch 10/25\n",
      "622/622 [==============================] - 5s 8ms/step - loss: 0.1035 - accuracy: 0.9634 - val_loss: 0.1638 - val_accuracy: 0.9393\n",
      "\n",
      "Epoch 00010: val_loss improved from 0.16843 to 0.16378, saving model to saved-model_3/best-model\n",
      "Epoch 11/25\n",
      "622/622 [==============================] - 5s 8ms/step - loss: 0.0925 - accuracy: 0.9657 - val_loss: 0.1849 - val_accuracy: 0.9466\n",
      "\n",
      "Epoch 00011: val_loss did not improve from 0.16378\n",
      "Epoch 12/25\n",
      "622/622 [==============================] - 5s 8ms/step - loss: 0.0943 - accuracy: 0.9658 - val_loss: 0.1478 - val_accuracy: 0.9547\n",
      "\n",
      "Epoch 00012: val_loss improved from 0.16378 to 0.14776, saving model to saved-model_3/best-model\n",
      "Epoch 13/25\n",
      "622/622 [==============================] - 5s 8ms/step - loss: 0.0843 - accuracy: 0.9690 - val_loss: 0.1544 - val_accuracy: 0.9457\n",
      "\n",
      "Epoch 00013: val_loss did not improve from 0.14776\n",
      "Epoch 14/25\n",
      "622/622 [==============================] - 5s 8ms/step - loss: 0.0743 - accuracy: 0.9711 - val_loss: 0.2058 - val_accuracy: 0.9267\n",
      "\n",
      "Epoch 00014: val_loss did not improve from 0.14776\n",
      "Epoch 15/25\n",
      "622/622 [==============================] - 5s 8ms/step - loss: 0.0934 - accuracy: 0.9677 - val_loss: 0.1470 - val_accuracy: 0.9552\n",
      "\n",
      "Epoch 00015: val_loss improved from 0.14776 to 0.14696, saving model to saved-model_3/best-model\n",
      "Epoch 16/25\n",
      "622/622 [==============================] - 5s 8ms/step - loss: 0.0618 - accuracy: 0.9762 - val_loss: 0.1571 - val_accuracy: 0.9561\n",
      "\n",
      "Epoch 00016: val_loss did not improve from 0.14696\n",
      "Epoch 17/25\n",
      "622/622 [==============================] - 5s 8ms/step - loss: 0.0719 - accuracy: 0.9749 - val_loss: 0.1630 - val_accuracy: 0.9488\n",
      "\n",
      "Epoch 00017: val_loss did not improve from 0.14696\n",
      "Epoch 18/25\n",
      "622/622 [==============================] - 5s 8ms/step - loss: 0.0632 - accuracy: 0.9777 - val_loss: 0.1733 - val_accuracy: 0.9507\n",
      "\n",
      "Epoch 00018: val_loss did not improve from 0.14696\n",
      "Epoch 19/25\n",
      "622/622 [==============================] - 5s 8ms/step - loss: 0.0553 - accuracy: 0.9786 - val_loss: 0.2000 - val_accuracy: 0.9443\n",
      "\n",
      "Epoch 00019: val_loss did not improve from 0.14696\n",
      "Epoch 20/25\n",
      "622/622 [==============================] - 5s 8ms/step - loss: 0.1175 - accuracy: 0.9649 - val_loss: 0.1808 - val_accuracy: 0.9416\n",
      "\n",
      "Epoch 00020: val_loss did not improve from 0.14696\n",
      "Epoch 21/25\n",
      "622/622 [==============================] - 5s 8ms/step - loss: 0.0509 - accuracy: 0.9807 - val_loss: 0.2054 - val_accuracy: 0.9479\n",
      "\n",
      "Epoch 00021: val_loss did not improve from 0.14696\n",
      "Epoch 22/25\n",
      "622/622 [==============================] - 5s 8ms/step - loss: 0.0420 - accuracy: 0.9838 - val_loss: 0.1837 - val_accuracy: 0.9511\n",
      "\n",
      "Epoch 00022: val_loss did not improve from 0.14696\n",
      "Epoch 23/25\n",
      "622/622 [==============================] - 5s 8ms/step - loss: 0.0546 - accuracy: 0.9795 - val_loss: 0.1678 - val_accuracy: 0.9525\n",
      "\n",
      "Epoch 00023: val_loss did not improve from 0.14696\n",
      "Epoch 24/25\n",
      "622/622 [==============================] - 5s 8ms/step - loss: 0.0491 - accuracy: 0.9811 - val_loss: 0.2174 - val_accuracy: 0.9493\n",
      "\n",
      "Epoch 00024: val_loss did not improve from 0.14696\n",
      "Epoch 25/25\n",
      "622/622 [==============================] - 5s 8ms/step - loss: 0.0685 - accuracy: 0.9776 - val_loss: 0.1825 - val_accuracy: 0.9556\n",
      "\n",
      "Epoch 00025: val_loss did not improve from 0.14696\n"
     ]
    }
   ],
   "source": [
    "model3 = Sequential()\n",
    "\n",
    "model3.add(Conv1D(filters=512 , kernel_size=(6,) ,strides=2, activation='relu' , input_shape=(x_train.shape[1],1)))\n",
    "model3.add(MaxPool1D(pool_size=(6,)))\n",
    "\n",
    "\n",
    "model3.add(Conv1D(filters=128 , kernel_size=(6,) , strides=2,activation='relu' ))\n",
    "model3.add(MaxPool1D(pool_size=(3,)))\n",
    "\n",
    "model3.add(Flatten())  # input layer to fully connected layer\n",
    "\n",
    "model3.add(Dense(units=512 , activation='relu'))    # Hidden Layer\n",
    "model3.add(Dense(units=512 , activation='relu'))\n",
    "model3.add(Dense(units=5 , activation='softmax'))    # Output Layer\n",
    "\n",
    "model3.compile(optimizer='adam' , loss='sparse_categorical_crossentropy' ,  metrics=(['accuracy']))\n",
    "\n",
    "from tensorflow.keras.callbacks import ModelCheckpoint\n",
    "\n",
    "checkpoint = ModelCheckpoint(\n",
    "    'saved-model_3/best-model', monitor='val_loss', mode='min',\n",
    "    save_weights_only=True, save_best_only=True, verbose=1\n",
    ")\n",
    "\n",
    "\n",
    "history_3 = model3.fit(x_train , y_train , epochs=25,validation_data=(x_val , y_val),callbacks=[checkpoint])"
   ]
  },
  {
   "cell_type": "markdown",
   "metadata": {
    "id": "GXt5YsaWT12b"
   },
   "source": [
    "## **CNN Results Graph**"
   ]
  },
  {
   "cell_type": "markdown",
   "metadata": {
    "id": "Ujgok8XG4vSz"
   },
   "source": [
    "## **Accuracy**"
   ]
  },
  {
   "cell_type": "code",
   "execution_count": null,
   "metadata": {
    "colab": {
     "base_uri": "https://localhost:8080/",
     "height": 232
    },
    "id": "kNebeIwwqRtZ",
    "outputId": "e45c292e-7dad-492d-bab1-415d923b905d"
   },
   "outputs": [
    {
     "ename": "NameError",
     "evalue": "ignored",
     "output_type": "error",
     "traceback": [
      "\u001b[0;31m---------------------------------------------------------------------------\u001b[0m",
      "\u001b[0;31mNameError\u001b[0m                                 Traceback (most recent call last)",
      "\u001b[0;32m<ipython-input-29-4f16d64e86e7>\u001b[0m in \u001b[0;36m<module>\u001b[0;34m()\u001b[0m\n\u001b[1;32m      1\u001b[0m \u001b[0;31m# Training and Validation Result For 3 CNN\u001b[0m\u001b[0;34m\u001b[0m\u001b[0;34m\u001b[0m\u001b[0;34m\u001b[0m\u001b[0m\n\u001b[1;32m      2\u001b[0m \u001b[0;34m\u001b[0m\u001b[0m\n\u001b[0;32m----> 3\u001b[0;31m \u001b[0mpd\u001b[0m\u001b[0;34m.\u001b[0m\u001b[0mDataFrame\u001b[0m\u001b[0;34m(\u001b[0m\u001b[0mhistory\u001b[0m\u001b[0;34m.\u001b[0m\u001b[0mhistory\u001b[0m\u001b[0;34m)\u001b[0m\u001b[0;34m\u001b[0m\u001b[0;34m\u001b[0m\u001b[0m\n\u001b[0m\u001b[1;32m      4\u001b[0m \u001b[0mpd\u001b[0m\u001b[0;34m.\u001b[0m\u001b[0mDataFrame\u001b[0m\u001b[0;34m(\u001b[0m\u001b[0mhistory\u001b[0m\u001b[0;34m.\u001b[0m\u001b[0mhistory\u001b[0m\u001b[0;34m)\u001b[0m\u001b[0;34m[\u001b[0m\u001b[0;34m[\u001b[0m\u001b[0;34m'accuracy'\u001b[0m\u001b[0;34m,\u001b[0m \u001b[0;34m'val_accuracy'\u001b[0m\u001b[0;34m]\u001b[0m\u001b[0;34m]\u001b[0m\u001b[0;34m.\u001b[0m\u001b[0mplot\u001b[0m\u001b[0;34m(\u001b[0m\u001b[0;34m)\u001b[0m\u001b[0;34m\u001b[0m\u001b[0;34m\u001b[0m\u001b[0m\n\u001b[1;32m      5\u001b[0m \u001b[0mplt\u001b[0m\u001b[0;34m.\u001b[0m\u001b[0mtitle\u001b[0m\u001b[0;34m(\u001b[0m\u001b[0;34m\"Architecture 1\"\u001b[0m\u001b[0;34m)\u001b[0m\u001b[0;34m\u001b[0m\u001b[0;34m\u001b[0m\u001b[0m\n",
      "\u001b[0;31mNameError\u001b[0m: name 'history' is not defined"
     ]
    }
   ],
   "source": [
    "# Training and Validation Result For 3 CNN\n",
    "\n",
    "pd.DataFrame(history.history)\n",
    "pd.DataFrame(history.history)[['accuracy', 'val_accuracy']].plot()\n",
    "plt.title(\"Architecture 1\")\n",
    "\n",
    "pd.DataFrame(history_2.history)\n",
    "pd.DataFrame(history_2.history)[['accuracy', 'val_accuracy']].plot()\n",
    "plt.title(\"Architecture 2\")\n",
    "\n",
    "pd.DataFrame(history_3.history)\n",
    "pd.DataFrame(history_3.history)[['accuracy', 'val_accuracy']].plot()\n",
    "plt.title(\"Architecture 3\")"
   ]
  },
  {
   "cell_type": "markdown",
   "metadata": {
    "id": "5YGDZ2mi40ZU"
   },
   "source": [
    "## **Loss**"
   ]
  },
  {
   "cell_type": "code",
   "execution_count": null,
   "metadata": {
    "colab": {
     "base_uri": "https://localhost:8080/",
     "height": 826
    },
    "id": "TfskLKPE4408",
    "outputId": "be4cfa44-9f33-493d-fdcb-2fe92b1d8a20"
   },
   "outputs": [
    {
     "data": {
      "text/plain": [
       "Text(0.5, 1.0, 'Architecture 3')"
      ]
     },
     "execution_count": 38,
     "metadata": {
      "tags": []
     },
     "output_type": "execute_result"
    },
    {
     "data": {
      "image/png": "[encoded data removed]",
      "text/plain": [
       "<Figure size 432x288 with 1 Axes>"
      ]
     },
     "metadata": {
      "tags": []
     },
     "output_type": "display_data"
    },
    {
     "data": {
      "image/png": "[encoded data removed]",
      "text/plain": [
       "<Figure size 432x288 with 1 Axes>"
      ]
     },
     "metadata": {
      "tags": []
     },
     "output_type": "display_data"
    },
    {
     "data": {
      "image/png": "[encoded data removed]",
      "text/plain": [
       "<Figure size 432x288 with 1 Axes>"
      ]
     },
     "metadata": {
      "tags": []
     },
     "output_type": "display_data"
    }
   ],
   "source": [
    "pd.DataFrame(history.history)\n",
    "pd.DataFrame(history.history)[['loss', 'val_loss']].plot()\n",
    "plt.title(\"Architecture 1\")\n",
    "\n",
    "pd.DataFrame(history_2.history)\n",
    "pd.DataFrame(history_2.history)[['loss', 'val_loss']].plot()\n",
    "plt.title(\"Architecture 2\")\n",
    "\n",
    "\n",
    "pd.DataFrame(history_3.history)\n",
    "pd.DataFrame(history_3.history)[['loss', 'val_loss']].plot()\n",
    "plt.title(\"Architecture 3\")"
   ]
  },
  {
   "cell_type": "markdown",
   "metadata": {
    "id": "pN8eqjV1y4TW"
   },
   "source": [
    "# **Test the Model**"
   ]
  },
  {
   "cell_type": "markdown",
   "metadata": {
    "id": "JJnEVzWPIcrp"
   },
   "source": [
    "## Read Test Data"
   ]
  },
  {
   "cell_type": "code",
   "execution_count": null,
   "metadata": {
    "colab": {
     "base_uri": "https://localhost:8080/"
    },
    "id": "Ejm1J05Ww1Ec",
    "outputId": "41c2a8af-7cf8-48b3-b07a-caf1375e1ae5"
   },
   "outputs": [
    {
     "data": {
      "text/html": [
       "<div>\n",
       "<style scoped>\n",
       "    .dataframe tbody tr th:only-of-type {\n",
       "        vertical-align: middle;\n",
       "    }\n",
       "\n",
       "    .dataframe tbody tr th {\n",
       "        vertical-align: top;\n",
       "    }\n",
       "\n",
       "    .dataframe thead th {\n",
       "        text-align: right;\n",
       "    }\n",
       "</style>\n",
       "<table border=\"1\" class=\"dataframe\">\n",
       "  <thead>\n",
       "    <tr style=\"text-align: right;\">\n",
       "      <th></th>\n",
       "      <th>0</th>\n",
       "      <th>1</th>\n",
       "      <th>2</th>\n",
       "      <th>3</th>\n",
       "      <th>4</th>\n",
       "      <th>5</th>\n",
       "      <th>6</th>\n",
       "      <th>7</th>\n",
       "      <th>8</th>\n",
       "      <th>9</th>\n",
       "      <th>10</th>\n",
       "      <th>11</th>\n",
       "      <th>12</th>\n",
       "      <th>13</th>\n",
       "      <th>14</th>\n",
       "      <th>15</th>\n",
       "      <th>16</th>\n",
       "      <th>17</th>\n",
       "      <th>18</th>\n",
       "      <th>19</th>\n",
       "      <th>20</th>\n",
       "      <th>21</th>\n",
       "      <th>22</th>\n",
       "      <th>23</th>\n",
       "      <th>24</th>\n",
       "      <th>25</th>\n",
       "      <th>26</th>\n",
       "      <th>27</th>\n",
       "      <th>28</th>\n",
       "      <th>29</th>\n",
       "      <th>30</th>\n",
       "      <th>31</th>\n",
       "      <th>32</th>\n",
       "      <th>33</th>\n",
       "      <th>34</th>\n",
       "      <th>35</th>\n",
       "      <th>36</th>\n",
       "      <th>37</th>\n",
       "      <th>38</th>\n",
       "      <th>39</th>\n",
       "      <th>...</th>\n",
       "      <th>148</th>\n",
       "      <th>149</th>\n",
       "      <th>150</th>\n",
       "      <th>151</th>\n",
       "      <th>152</th>\n",
       "      <th>153</th>\n",
       "      <th>154</th>\n",
       "      <th>155</th>\n",
       "      <th>156</th>\n",
       "      <th>157</th>\n",
       "      <th>158</th>\n",
       "      <th>159</th>\n",
       "      <th>160</th>\n",
       "      <th>161</th>\n",
       "      <th>162</th>\n",
       "      <th>163</th>\n",
       "      <th>164</th>\n",
       "      <th>165</th>\n",
       "      <th>166</th>\n",
       "      <th>167</th>\n",
       "      <th>168</th>\n",
       "      <th>169</th>\n",
       "      <th>170</th>\n",
       "      <th>171</th>\n",
       "      <th>172</th>\n",
       "      <th>173</th>\n",
       "      <th>174</th>\n",
       "      <th>175</th>\n",
       "      <th>176</th>\n",
       "      <th>177</th>\n",
       "      <th>178</th>\n",
       "      <th>179</th>\n",
       "      <th>180</th>\n",
       "      <th>181</th>\n",
       "      <th>182</th>\n",
       "      <th>183</th>\n",
       "      <th>184</th>\n",
       "      <th>185</th>\n",
       "      <th>186</th>\n",
       "      <th>187</th>\n",
       "    </tr>\n",
       "  </thead>\n",
       "  <tbody>\n",
       "    <tr>\n",
       "      <th>0</th>\n",
       "      <td>1.000000</td>\n",
       "      <td>0.758264</td>\n",
       "      <td>0.111570</td>\n",
       "      <td>0.000000</td>\n",
       "      <td>0.080579</td>\n",
       "      <td>0.078512</td>\n",
       "      <td>0.066116</td>\n",
       "      <td>0.049587</td>\n",
       "      <td>0.047521</td>\n",
       "      <td>0.035124</td>\n",
       "      <td>0.030992</td>\n",
       "      <td>0.028926</td>\n",
       "      <td>0.035124</td>\n",
       "      <td>0.026860</td>\n",
       "      <td>0.039256</td>\n",
       "      <td>0.035124</td>\n",
       "      <td>0.043388</td>\n",
       "      <td>0.047521</td>\n",
       "      <td>0.053719</td>\n",
       "      <td>0.053719</td>\n",
       "      <td>0.070248</td>\n",
       "      <td>0.072314</td>\n",
       "      <td>0.084711</td>\n",
       "      <td>0.097107</td>\n",
       "      <td>0.121901</td>\n",
       "      <td>0.132231</td>\n",
       "      <td>0.169421</td>\n",
       "      <td>0.196281</td>\n",
       "      <td>0.214876</td>\n",
       "      <td>0.235537</td>\n",
       "      <td>0.254132</td>\n",
       "      <td>0.264463</td>\n",
       "      <td>0.285124</td>\n",
       "      <td>0.272727</td>\n",
       "      <td>0.266529</td>\n",
       "      <td>0.239669</td>\n",
       "      <td>0.214876</td>\n",
       "      <td>0.173554</td>\n",
       "      <td>0.157025</td>\n",
       "      <td>0.123967</td>\n",
       "      <td>...</td>\n",
       "      <td>0.0</td>\n",
       "      <td>0.0</td>\n",
       "      <td>0.0</td>\n",
       "      <td>0.0</td>\n",
       "      <td>0.0</td>\n",
       "      <td>0.0</td>\n",
       "      <td>0.0</td>\n",
       "      <td>0.0</td>\n",
       "      <td>0.0</td>\n",
       "      <td>0.0</td>\n",
       "      <td>0.0</td>\n",
       "      <td>0.0</td>\n",
       "      <td>0.0</td>\n",
       "      <td>0.0</td>\n",
       "      <td>0.0</td>\n",
       "      <td>0.0</td>\n",
       "      <td>0.0</td>\n",
       "      <td>0.0</td>\n",
       "      <td>0.0</td>\n",
       "      <td>0.0</td>\n",
       "      <td>0.0</td>\n",
       "      <td>0.0</td>\n",
       "      <td>0.0</td>\n",
       "      <td>0.0</td>\n",
       "      <td>0.0</td>\n",
       "      <td>0.0</td>\n",
       "      <td>0.0</td>\n",
       "      <td>0.0</td>\n",
       "      <td>0.0</td>\n",
       "      <td>0.0</td>\n",
       "      <td>0.0</td>\n",
       "      <td>0.0</td>\n",
       "      <td>0.0</td>\n",
       "      <td>0.0</td>\n",
       "      <td>0.0</td>\n",
       "      <td>0.0</td>\n",
       "      <td>0.0</td>\n",
       "      <td>0.0</td>\n",
       "      <td>0.0</td>\n",
       "      <td>0.0</td>\n",
       "    </tr>\n",
       "    <tr>\n",
       "      <th>1</th>\n",
       "      <td>0.908425</td>\n",
       "      <td>0.783883</td>\n",
       "      <td>0.531136</td>\n",
       "      <td>0.362637</td>\n",
       "      <td>0.366300</td>\n",
       "      <td>0.344322</td>\n",
       "      <td>0.333333</td>\n",
       "      <td>0.307692</td>\n",
       "      <td>0.296703</td>\n",
       "      <td>0.300366</td>\n",
       "      <td>0.304029</td>\n",
       "      <td>0.336996</td>\n",
       "      <td>0.377289</td>\n",
       "      <td>0.391941</td>\n",
       "      <td>0.439560</td>\n",
       "      <td>0.446886</td>\n",
       "      <td>0.457875</td>\n",
       "      <td>0.479853</td>\n",
       "      <td>0.512821</td>\n",
       "      <td>0.534799</td>\n",
       "      <td>0.586081</td>\n",
       "      <td>0.586081</td>\n",
       "      <td>0.604396</td>\n",
       "      <td>0.633700</td>\n",
       "      <td>0.615385</td>\n",
       "      <td>0.582418</td>\n",
       "      <td>0.564103</td>\n",
       "      <td>0.520147</td>\n",
       "      <td>0.490842</td>\n",
       "      <td>0.490842</td>\n",
       "      <td>0.468864</td>\n",
       "      <td>0.454212</td>\n",
       "      <td>0.450549</td>\n",
       "      <td>0.465201</td>\n",
       "      <td>0.450549</td>\n",
       "      <td>0.432234</td>\n",
       "      <td>0.424908</td>\n",
       "      <td>0.410256</td>\n",
       "      <td>0.391941</td>\n",
       "      <td>0.369963</td>\n",
       "      <td>...</td>\n",
       "      <td>0.0</td>\n",
       "      <td>0.0</td>\n",
       "      <td>0.0</td>\n",
       "      <td>0.0</td>\n",
       "      <td>0.0</td>\n",
       "      <td>0.0</td>\n",
       "      <td>0.0</td>\n",
       "      <td>0.0</td>\n",
       "      <td>0.0</td>\n",
       "      <td>0.0</td>\n",
       "      <td>0.0</td>\n",
       "      <td>0.0</td>\n",
       "      <td>0.0</td>\n",
       "      <td>0.0</td>\n",
       "      <td>0.0</td>\n",
       "      <td>0.0</td>\n",
       "      <td>0.0</td>\n",
       "      <td>0.0</td>\n",
       "      <td>0.0</td>\n",
       "      <td>0.0</td>\n",
       "      <td>0.0</td>\n",
       "      <td>0.0</td>\n",
       "      <td>0.0</td>\n",
       "      <td>0.0</td>\n",
       "      <td>0.0</td>\n",
       "      <td>0.0</td>\n",
       "      <td>0.0</td>\n",
       "      <td>0.0</td>\n",
       "      <td>0.0</td>\n",
       "      <td>0.0</td>\n",
       "      <td>0.0</td>\n",
       "      <td>0.0</td>\n",
       "      <td>0.0</td>\n",
       "      <td>0.0</td>\n",
       "      <td>0.0</td>\n",
       "      <td>0.0</td>\n",
       "      <td>0.0</td>\n",
       "      <td>0.0</td>\n",
       "      <td>0.0</td>\n",
       "      <td>0.0</td>\n",
       "    </tr>\n",
       "    <tr>\n",
       "      <th>2</th>\n",
       "      <td>0.730088</td>\n",
       "      <td>0.212389</td>\n",
       "      <td>0.000000</td>\n",
       "      <td>0.119469</td>\n",
       "      <td>0.101770</td>\n",
       "      <td>0.101770</td>\n",
       "      <td>0.110619</td>\n",
       "      <td>0.123894</td>\n",
       "      <td>0.115044</td>\n",
       "      <td>0.132743</td>\n",
       "      <td>0.106195</td>\n",
       "      <td>0.141593</td>\n",
       "      <td>0.128319</td>\n",
       "      <td>0.150442</td>\n",
       "      <td>0.132743</td>\n",
       "      <td>0.150442</td>\n",
       "      <td>0.132743</td>\n",
       "      <td>0.150442</td>\n",
       "      <td>0.123894</td>\n",
       "      <td>0.163717</td>\n",
       "      <td>0.137168</td>\n",
       "      <td>0.141593</td>\n",
       "      <td>0.132743</td>\n",
       "      <td>0.150442</td>\n",
       "      <td>0.128319</td>\n",
       "      <td>0.146018</td>\n",
       "      <td>0.119469</td>\n",
       "      <td>0.123894</td>\n",
       "      <td>0.101770</td>\n",
       "      <td>0.092920</td>\n",
       "      <td>0.070796</td>\n",
       "      <td>0.079646</td>\n",
       "      <td>0.066372</td>\n",
       "      <td>0.070796</td>\n",
       "      <td>0.079646</td>\n",
       "      <td>0.092920</td>\n",
       "      <td>0.088496</td>\n",
       "      <td>0.084071</td>\n",
       "      <td>0.079646</td>\n",
       "      <td>0.088496</td>\n",
       "      <td>...</td>\n",
       "      <td>0.0</td>\n",
       "      <td>0.0</td>\n",
       "      <td>0.0</td>\n",
       "      <td>0.0</td>\n",
       "      <td>0.0</td>\n",
       "      <td>0.0</td>\n",
       "      <td>0.0</td>\n",
       "      <td>0.0</td>\n",
       "      <td>0.0</td>\n",
       "      <td>0.0</td>\n",
       "      <td>0.0</td>\n",
       "      <td>0.0</td>\n",
       "      <td>0.0</td>\n",
       "      <td>0.0</td>\n",
       "      <td>0.0</td>\n",
       "      <td>0.0</td>\n",
       "      <td>0.0</td>\n",
       "      <td>0.0</td>\n",
       "      <td>0.0</td>\n",
       "      <td>0.0</td>\n",
       "      <td>0.0</td>\n",
       "      <td>0.0</td>\n",
       "      <td>0.0</td>\n",
       "      <td>0.0</td>\n",
       "      <td>0.0</td>\n",
       "      <td>0.0</td>\n",
       "      <td>0.0</td>\n",
       "      <td>0.0</td>\n",
       "      <td>0.0</td>\n",
       "      <td>0.0</td>\n",
       "      <td>0.0</td>\n",
       "      <td>0.0</td>\n",
       "      <td>0.0</td>\n",
       "      <td>0.0</td>\n",
       "      <td>0.0</td>\n",
       "      <td>0.0</td>\n",
       "      <td>0.0</td>\n",
       "      <td>0.0</td>\n",
       "      <td>0.0</td>\n",
       "      <td>0.0</td>\n",
       "    </tr>\n",
       "    <tr>\n",
       "      <th>3</th>\n",
       "      <td>1.000000</td>\n",
       "      <td>0.910417</td>\n",
       "      <td>0.681250</td>\n",
       "      <td>0.472917</td>\n",
       "      <td>0.229167</td>\n",
       "      <td>0.068750</td>\n",
       "      <td>0.000000</td>\n",
       "      <td>0.004167</td>\n",
       "      <td>0.014583</td>\n",
       "      <td>0.054167</td>\n",
       "      <td>0.102083</td>\n",
       "      <td>0.122917</td>\n",
       "      <td>0.150000</td>\n",
       "      <td>0.168750</td>\n",
       "      <td>0.172917</td>\n",
       "      <td>0.170833</td>\n",
       "      <td>0.168750</td>\n",
       "      <td>0.164583</td>\n",
       "      <td>0.156250</td>\n",
       "      <td>0.152083</td>\n",
       "      <td>0.147917</td>\n",
       "      <td>0.147917</td>\n",
       "      <td>0.145833</td>\n",
       "      <td>0.145833</td>\n",
       "      <td>0.141667</td>\n",
       "      <td>0.141667</td>\n",
       "      <td>0.147917</td>\n",
       "      <td>0.158333</td>\n",
       "      <td>0.168750</td>\n",
       "      <td>0.179167</td>\n",
       "      <td>0.191667</td>\n",
       "      <td>0.206250</td>\n",
       "      <td>0.220833</td>\n",
       "      <td>0.239583</td>\n",
       "      <td>0.258333</td>\n",
       "      <td>0.275000</td>\n",
       "      <td>0.287500</td>\n",
       "      <td>0.308333</td>\n",
       "      <td>0.320833</td>\n",
       "      <td>0.331250</td>\n",
       "      <td>...</td>\n",
       "      <td>0.0</td>\n",
       "      <td>0.0</td>\n",
       "      <td>0.0</td>\n",
       "      <td>0.0</td>\n",
       "      <td>0.0</td>\n",
       "      <td>0.0</td>\n",
       "      <td>0.0</td>\n",
       "      <td>0.0</td>\n",
       "      <td>0.0</td>\n",
       "      <td>0.0</td>\n",
       "      <td>0.0</td>\n",
       "      <td>0.0</td>\n",
       "      <td>0.0</td>\n",
       "      <td>0.0</td>\n",
       "      <td>0.0</td>\n",
       "      <td>0.0</td>\n",
       "      <td>0.0</td>\n",
       "      <td>0.0</td>\n",
       "      <td>0.0</td>\n",
       "      <td>0.0</td>\n",
       "      <td>0.0</td>\n",
       "      <td>0.0</td>\n",
       "      <td>0.0</td>\n",
       "      <td>0.0</td>\n",
       "      <td>0.0</td>\n",
       "      <td>0.0</td>\n",
       "      <td>0.0</td>\n",
       "      <td>0.0</td>\n",
       "      <td>0.0</td>\n",
       "      <td>0.0</td>\n",
       "      <td>0.0</td>\n",
       "      <td>0.0</td>\n",
       "      <td>0.0</td>\n",
       "      <td>0.0</td>\n",
       "      <td>0.0</td>\n",
       "      <td>0.0</td>\n",
       "      <td>0.0</td>\n",
       "      <td>0.0</td>\n",
       "      <td>0.0</td>\n",
       "      <td>0.0</td>\n",
       "    </tr>\n",
       "    <tr>\n",
       "      <th>4</th>\n",
       "      <td>0.570470</td>\n",
       "      <td>0.399329</td>\n",
       "      <td>0.238255</td>\n",
       "      <td>0.147651</td>\n",
       "      <td>0.000000</td>\n",
       "      <td>0.003356</td>\n",
       "      <td>0.040268</td>\n",
       "      <td>0.080537</td>\n",
       "      <td>0.070470</td>\n",
       "      <td>0.090604</td>\n",
       "      <td>0.080537</td>\n",
       "      <td>0.104027</td>\n",
       "      <td>0.093960</td>\n",
       "      <td>0.117450</td>\n",
       "      <td>0.097315</td>\n",
       "      <td>0.134228</td>\n",
       "      <td>0.124161</td>\n",
       "      <td>0.161074</td>\n",
       "      <td>0.171141</td>\n",
       "      <td>0.194631</td>\n",
       "      <td>0.204698</td>\n",
       "      <td>0.261745</td>\n",
       "      <td>0.275168</td>\n",
       "      <td>0.332215</td>\n",
       "      <td>0.345638</td>\n",
       "      <td>0.395973</td>\n",
       "      <td>0.406040</td>\n",
       "      <td>0.456376</td>\n",
       "      <td>0.446309</td>\n",
       "      <td>0.446309</td>\n",
       "      <td>0.399329</td>\n",
       "      <td>0.369128</td>\n",
       "      <td>0.308725</td>\n",
       "      <td>0.295302</td>\n",
       "      <td>0.265101</td>\n",
       "      <td>0.271812</td>\n",
       "      <td>0.258389</td>\n",
       "      <td>0.268456</td>\n",
       "      <td>0.261745</td>\n",
       "      <td>0.281879</td>\n",
       "      <td>...</td>\n",
       "      <td>0.0</td>\n",
       "      <td>0.0</td>\n",
       "      <td>0.0</td>\n",
       "      <td>0.0</td>\n",
       "      <td>0.0</td>\n",
       "      <td>0.0</td>\n",
       "      <td>0.0</td>\n",
       "      <td>0.0</td>\n",
       "      <td>0.0</td>\n",
       "      <td>0.0</td>\n",
       "      <td>0.0</td>\n",
       "      <td>0.0</td>\n",
       "      <td>0.0</td>\n",
       "      <td>0.0</td>\n",
       "      <td>0.0</td>\n",
       "      <td>0.0</td>\n",
       "      <td>0.0</td>\n",
       "      <td>0.0</td>\n",
       "      <td>0.0</td>\n",
       "      <td>0.0</td>\n",
       "      <td>0.0</td>\n",
       "      <td>0.0</td>\n",
       "      <td>0.0</td>\n",
       "      <td>0.0</td>\n",
       "      <td>0.0</td>\n",
       "      <td>0.0</td>\n",
       "      <td>0.0</td>\n",
       "      <td>0.0</td>\n",
       "      <td>0.0</td>\n",
       "      <td>0.0</td>\n",
       "      <td>0.0</td>\n",
       "      <td>0.0</td>\n",
       "      <td>0.0</td>\n",
       "      <td>0.0</td>\n",
       "      <td>0.0</td>\n",
       "      <td>0.0</td>\n",
       "      <td>0.0</td>\n",
       "      <td>0.0</td>\n",
       "      <td>0.0</td>\n",
       "      <td>0.0</td>\n",
       "    </tr>\n",
       "    <tr>\n",
       "      <th>...</th>\n",
       "      <td>...</td>\n",
       "      <td>...</td>\n",
       "      <td>...</td>\n",
       "      <td>...</td>\n",
       "      <td>...</td>\n",
       "      <td>...</td>\n",
       "      <td>...</td>\n",
       "      <td>...</td>\n",
       "      <td>...</td>\n",
       "      <td>...</td>\n",
       "      <td>...</td>\n",
       "      <td>...</td>\n",
       "      <td>...</td>\n",
       "      <td>...</td>\n",
       "      <td>...</td>\n",
       "      <td>...</td>\n",
       "      <td>...</td>\n",
       "      <td>...</td>\n",
       "      <td>...</td>\n",
       "      <td>...</td>\n",
       "      <td>...</td>\n",
       "      <td>...</td>\n",
       "      <td>...</td>\n",
       "      <td>...</td>\n",
       "      <td>...</td>\n",
       "      <td>...</td>\n",
       "      <td>...</td>\n",
       "      <td>...</td>\n",
       "      <td>...</td>\n",
       "      <td>...</td>\n",
       "      <td>...</td>\n",
       "      <td>...</td>\n",
       "      <td>...</td>\n",
       "      <td>...</td>\n",
       "      <td>...</td>\n",
       "      <td>...</td>\n",
       "      <td>...</td>\n",
       "      <td>...</td>\n",
       "      <td>...</td>\n",
       "      <td>...</td>\n",
       "      <td>...</td>\n",
       "      <td>...</td>\n",
       "      <td>...</td>\n",
       "      <td>...</td>\n",
       "      <td>...</td>\n",
       "      <td>...</td>\n",
       "      <td>...</td>\n",
       "      <td>...</td>\n",
       "      <td>...</td>\n",
       "      <td>...</td>\n",
       "      <td>...</td>\n",
       "      <td>...</td>\n",
       "      <td>...</td>\n",
       "      <td>...</td>\n",
       "      <td>...</td>\n",
       "      <td>...</td>\n",
       "      <td>...</td>\n",
       "      <td>...</td>\n",
       "      <td>...</td>\n",
       "      <td>...</td>\n",
       "      <td>...</td>\n",
       "      <td>...</td>\n",
       "      <td>...</td>\n",
       "      <td>...</td>\n",
       "      <td>...</td>\n",
       "      <td>...</td>\n",
       "      <td>...</td>\n",
       "      <td>...</td>\n",
       "      <td>...</td>\n",
       "      <td>...</td>\n",
       "      <td>...</td>\n",
       "      <td>...</td>\n",
       "      <td>...</td>\n",
       "      <td>...</td>\n",
       "      <td>...</td>\n",
       "      <td>...</td>\n",
       "      <td>...</td>\n",
       "      <td>...</td>\n",
       "      <td>...</td>\n",
       "      <td>...</td>\n",
       "      <td>...</td>\n",
       "    </tr>\n",
       "    <tr>\n",
       "      <th>21887</th>\n",
       "      <td>0.928736</td>\n",
       "      <td>0.871264</td>\n",
       "      <td>0.804598</td>\n",
       "      <td>0.742529</td>\n",
       "      <td>0.650575</td>\n",
       "      <td>0.535632</td>\n",
       "      <td>0.394253</td>\n",
       "      <td>0.250575</td>\n",
       "      <td>0.140230</td>\n",
       "      <td>0.102299</td>\n",
       "      <td>0.075862</td>\n",
       "      <td>0.032184</td>\n",
       "      <td>0.000000</td>\n",
       "      <td>0.012644</td>\n",
       "      <td>0.119540</td>\n",
       "      <td>0.243678</td>\n",
       "      <td>0.310345</td>\n",
       "      <td>0.367816</td>\n",
       "      <td>0.412644</td>\n",
       "      <td>0.434483</td>\n",
       "      <td>0.502299</td>\n",
       "      <td>0.533333</td>\n",
       "      <td>0.563218</td>\n",
       "      <td>0.627586</td>\n",
       "      <td>0.671264</td>\n",
       "      <td>0.685057</td>\n",
       "      <td>0.679310</td>\n",
       "      <td>0.679310</td>\n",
       "      <td>0.677011</td>\n",
       "      <td>0.681609</td>\n",
       "      <td>0.690805</td>\n",
       "      <td>0.700000</td>\n",
       "      <td>0.713793</td>\n",
       "      <td>0.736782</td>\n",
       "      <td>0.752874</td>\n",
       "      <td>0.771264</td>\n",
       "      <td>0.783908</td>\n",
       "      <td>0.800000</td>\n",
       "      <td>0.806897</td>\n",
       "      <td>0.813793</td>\n",
       "      <td>...</td>\n",
       "      <td>0.0</td>\n",
       "      <td>0.0</td>\n",
       "      <td>0.0</td>\n",
       "      <td>0.0</td>\n",
       "      <td>0.0</td>\n",
       "      <td>0.0</td>\n",
       "      <td>0.0</td>\n",
       "      <td>0.0</td>\n",
       "      <td>0.0</td>\n",
       "      <td>0.0</td>\n",
       "      <td>0.0</td>\n",
       "      <td>0.0</td>\n",
       "      <td>0.0</td>\n",
       "      <td>0.0</td>\n",
       "      <td>0.0</td>\n",
       "      <td>0.0</td>\n",
       "      <td>0.0</td>\n",
       "      <td>0.0</td>\n",
       "      <td>0.0</td>\n",
       "      <td>0.0</td>\n",
       "      <td>0.0</td>\n",
       "      <td>0.0</td>\n",
       "      <td>0.0</td>\n",
       "      <td>0.0</td>\n",
       "      <td>0.0</td>\n",
       "      <td>0.0</td>\n",
       "      <td>0.0</td>\n",
       "      <td>0.0</td>\n",
       "      <td>0.0</td>\n",
       "      <td>0.0</td>\n",
       "      <td>0.0</td>\n",
       "      <td>0.0</td>\n",
       "      <td>0.0</td>\n",
       "      <td>0.0</td>\n",
       "      <td>0.0</td>\n",
       "      <td>0.0</td>\n",
       "      <td>0.0</td>\n",
       "      <td>0.0</td>\n",
       "      <td>0.0</td>\n",
       "      <td>4.0</td>\n",
       "    </tr>\n",
       "    <tr>\n",
       "      <th>21888</th>\n",
       "      <td>0.802691</td>\n",
       "      <td>0.692078</td>\n",
       "      <td>0.587444</td>\n",
       "      <td>0.446936</td>\n",
       "      <td>0.318386</td>\n",
       "      <td>0.189836</td>\n",
       "      <td>0.118087</td>\n",
       "      <td>0.077728</td>\n",
       "      <td>0.112108</td>\n",
       "      <td>0.152466</td>\n",
       "      <td>0.289985</td>\n",
       "      <td>0.376682</td>\n",
       "      <td>0.412556</td>\n",
       "      <td>0.452915</td>\n",
       "      <td>0.529148</td>\n",
       "      <td>0.582960</td>\n",
       "      <td>0.641256</td>\n",
       "      <td>0.662182</td>\n",
       "      <td>0.678625</td>\n",
       "      <td>0.684604</td>\n",
       "      <td>0.695067</td>\n",
       "      <td>0.699552</td>\n",
       "      <td>0.710015</td>\n",
       "      <td>0.704036</td>\n",
       "      <td>0.726457</td>\n",
       "      <td>0.735426</td>\n",
       "      <td>0.754858</td>\n",
       "      <td>0.754858</td>\n",
       "      <td>0.765321</td>\n",
       "      <td>0.775785</td>\n",
       "      <td>0.793722</td>\n",
       "      <td>0.805680</td>\n",
       "      <td>0.828102</td>\n",
       "      <td>0.846039</td>\n",
       "      <td>0.871450</td>\n",
       "      <td>0.886398</td>\n",
       "      <td>0.916293</td>\n",
       "      <td>0.923767</td>\n",
       "      <td>0.938715</td>\n",
       "      <td>0.928251</td>\n",
       "      <td>...</td>\n",
       "      <td>0.0</td>\n",
       "      <td>0.0</td>\n",
       "      <td>0.0</td>\n",
       "      <td>0.0</td>\n",
       "      <td>0.0</td>\n",
       "      <td>0.0</td>\n",
       "      <td>0.0</td>\n",
       "      <td>0.0</td>\n",
       "      <td>0.0</td>\n",
       "      <td>0.0</td>\n",
       "      <td>0.0</td>\n",
       "      <td>0.0</td>\n",
       "      <td>0.0</td>\n",
       "      <td>0.0</td>\n",
       "      <td>0.0</td>\n",
       "      <td>0.0</td>\n",
       "      <td>0.0</td>\n",
       "      <td>0.0</td>\n",
       "      <td>0.0</td>\n",
       "      <td>0.0</td>\n",
       "      <td>0.0</td>\n",
       "      <td>0.0</td>\n",
       "      <td>0.0</td>\n",
       "      <td>0.0</td>\n",
       "      <td>0.0</td>\n",
       "      <td>0.0</td>\n",
       "      <td>0.0</td>\n",
       "      <td>0.0</td>\n",
       "      <td>0.0</td>\n",
       "      <td>0.0</td>\n",
       "      <td>0.0</td>\n",
       "      <td>0.0</td>\n",
       "      <td>0.0</td>\n",
       "      <td>0.0</td>\n",
       "      <td>0.0</td>\n",
       "      <td>0.0</td>\n",
       "      <td>0.0</td>\n",
       "      <td>0.0</td>\n",
       "      <td>0.0</td>\n",
       "      <td>4.0</td>\n",
       "    </tr>\n",
       "    <tr>\n",
       "      <th>21889</th>\n",
       "      <td>1.000000</td>\n",
       "      <td>0.967359</td>\n",
       "      <td>0.620178</td>\n",
       "      <td>0.347181</td>\n",
       "      <td>0.139466</td>\n",
       "      <td>0.089021</td>\n",
       "      <td>0.103858</td>\n",
       "      <td>0.100890</td>\n",
       "      <td>0.106825</td>\n",
       "      <td>0.100890</td>\n",
       "      <td>0.103858</td>\n",
       "      <td>0.086053</td>\n",
       "      <td>0.091988</td>\n",
       "      <td>0.083086</td>\n",
       "      <td>0.091988</td>\n",
       "      <td>0.077151</td>\n",
       "      <td>0.068249</td>\n",
       "      <td>0.053412</td>\n",
       "      <td>0.053412</td>\n",
       "      <td>0.044510</td>\n",
       "      <td>0.041543</td>\n",
       "      <td>0.032641</td>\n",
       "      <td>0.035608</td>\n",
       "      <td>0.008902</td>\n",
       "      <td>0.020772</td>\n",
       "      <td>0.000000</td>\n",
       "      <td>0.008902</td>\n",
       "      <td>0.002967</td>\n",
       "      <td>0.008902</td>\n",
       "      <td>0.000000</td>\n",
       "      <td>0.011869</td>\n",
       "      <td>0.002967</td>\n",
       "      <td>0.026706</td>\n",
       "      <td>0.017804</td>\n",
       "      <td>0.041543</td>\n",
       "      <td>0.047478</td>\n",
       "      <td>0.080119</td>\n",
       "      <td>0.083086</td>\n",
       "      <td>0.106825</td>\n",
       "      <td>0.109792</td>\n",
       "      <td>...</td>\n",
       "      <td>0.0</td>\n",
       "      <td>0.0</td>\n",
       "      <td>0.0</td>\n",
       "      <td>0.0</td>\n",
       "      <td>0.0</td>\n",
       "      <td>0.0</td>\n",
       "      <td>0.0</td>\n",
       "      <td>0.0</td>\n",
       "      <td>0.0</td>\n",
       "      <td>0.0</td>\n",
       "      <td>0.0</td>\n",
       "      <td>0.0</td>\n",
       "      <td>0.0</td>\n",
       "      <td>0.0</td>\n",
       "      <td>0.0</td>\n",
       "      <td>0.0</td>\n",
       "      <td>0.0</td>\n",
       "      <td>0.0</td>\n",
       "      <td>0.0</td>\n",
       "      <td>0.0</td>\n",
       "      <td>0.0</td>\n",
       "      <td>0.0</td>\n",
       "      <td>0.0</td>\n",
       "      <td>0.0</td>\n",
       "      <td>0.0</td>\n",
       "      <td>0.0</td>\n",
       "      <td>0.0</td>\n",
       "      <td>0.0</td>\n",
       "      <td>0.0</td>\n",
       "      <td>0.0</td>\n",
       "      <td>0.0</td>\n",
       "      <td>0.0</td>\n",
       "      <td>0.0</td>\n",
       "      <td>0.0</td>\n",
       "      <td>0.0</td>\n",
       "      <td>0.0</td>\n",
       "      <td>0.0</td>\n",
       "      <td>0.0</td>\n",
       "      <td>0.0</td>\n",
       "      <td>4.0</td>\n",
       "    </tr>\n",
       "    <tr>\n",
       "      <th>21890</th>\n",
       "      <td>0.984127</td>\n",
       "      <td>0.567460</td>\n",
       "      <td>0.607143</td>\n",
       "      <td>0.583333</td>\n",
       "      <td>0.607143</td>\n",
       "      <td>0.575397</td>\n",
       "      <td>0.575397</td>\n",
       "      <td>0.488095</td>\n",
       "      <td>0.392857</td>\n",
       "      <td>0.238095</td>\n",
       "      <td>0.063492</td>\n",
       "      <td>0.091270</td>\n",
       "      <td>0.162698</td>\n",
       "      <td>0.146825</td>\n",
       "      <td>0.170635</td>\n",
       "      <td>0.234127</td>\n",
       "      <td>0.238095</td>\n",
       "      <td>0.194444</td>\n",
       "      <td>0.202381</td>\n",
       "      <td>0.198413</td>\n",
       "      <td>0.218254</td>\n",
       "      <td>0.206349</td>\n",
       "      <td>0.222222</td>\n",
       "      <td>0.206349</td>\n",
       "      <td>0.218254</td>\n",
       "      <td>0.198413</td>\n",
       "      <td>0.198413</td>\n",
       "      <td>0.186508</td>\n",
       "      <td>0.198413</td>\n",
       "      <td>0.194444</td>\n",
       "      <td>0.210317</td>\n",
       "      <td>0.194444</td>\n",
       "      <td>0.234127</td>\n",
       "      <td>0.222222</td>\n",
       "      <td>0.246032</td>\n",
       "      <td>0.242063</td>\n",
       "      <td>0.285714</td>\n",
       "      <td>0.301587</td>\n",
       "      <td>0.333333</td>\n",
       "      <td>0.337302</td>\n",
       "      <td>...</td>\n",
       "      <td>0.0</td>\n",
       "      <td>0.0</td>\n",
       "      <td>0.0</td>\n",
       "      <td>0.0</td>\n",
       "      <td>0.0</td>\n",
       "      <td>0.0</td>\n",
       "      <td>0.0</td>\n",
       "      <td>0.0</td>\n",
       "      <td>0.0</td>\n",
       "      <td>0.0</td>\n",
       "      <td>0.0</td>\n",
       "      <td>0.0</td>\n",
       "      <td>0.0</td>\n",
       "      <td>0.0</td>\n",
       "      <td>0.0</td>\n",
       "      <td>0.0</td>\n",
       "      <td>0.0</td>\n",
       "      <td>0.0</td>\n",
       "      <td>0.0</td>\n",
       "      <td>0.0</td>\n",
       "      <td>0.0</td>\n",
       "      <td>0.0</td>\n",
       "      <td>0.0</td>\n",
       "      <td>0.0</td>\n",
       "      <td>0.0</td>\n",
       "      <td>0.0</td>\n",
       "      <td>0.0</td>\n",
       "      <td>0.0</td>\n",
       "      <td>0.0</td>\n",
       "      <td>0.0</td>\n",
       "      <td>0.0</td>\n",
       "      <td>0.0</td>\n",
       "      <td>0.0</td>\n",
       "      <td>0.0</td>\n",
       "      <td>0.0</td>\n",
       "      <td>0.0</td>\n",
       "      <td>0.0</td>\n",
       "      <td>0.0</td>\n",
       "      <td>0.0</td>\n",
       "      <td>4.0</td>\n",
       "    </tr>\n",
       "    <tr>\n",
       "      <th>21891</th>\n",
       "      <td>0.973970</td>\n",
       "      <td>0.913232</td>\n",
       "      <td>0.865510</td>\n",
       "      <td>0.823210</td>\n",
       "      <td>0.746204</td>\n",
       "      <td>0.642082</td>\n",
       "      <td>0.547722</td>\n",
       "      <td>0.426247</td>\n",
       "      <td>0.325380</td>\n",
       "      <td>0.279826</td>\n",
       "      <td>0.228850</td>\n",
       "      <td>0.136659</td>\n",
       "      <td>0.047722</td>\n",
       "      <td>0.010846</td>\n",
       "      <td>0.100868</td>\n",
       "      <td>0.188720</td>\n",
       "      <td>0.227766</td>\n",
       "      <td>0.240781</td>\n",
       "      <td>0.257050</td>\n",
       "      <td>0.263557</td>\n",
       "      <td>0.293926</td>\n",
       "      <td>0.318872</td>\n",
       "      <td>0.349241</td>\n",
       "      <td>0.402386</td>\n",
       "      <td>0.439262</td>\n",
       "      <td>0.450108</td>\n",
       "      <td>0.462039</td>\n",
       "      <td>0.475054</td>\n",
       "      <td>0.489154</td>\n",
       "      <td>0.486985</td>\n",
       "      <td>0.507592</td>\n",
       "      <td>0.510846</td>\n",
       "      <td>0.530369</td>\n",
       "      <td>0.543384</td>\n",
       "      <td>0.569414</td>\n",
       "      <td>0.582430</td>\n",
       "      <td>0.608460</td>\n",
       "      <td>0.619306</td>\n",
       "      <td>0.642082</td>\n",
       "      <td>0.650759</td>\n",
       "      <td>...</td>\n",
       "      <td>0.0</td>\n",
       "      <td>0.0</td>\n",
       "      <td>0.0</td>\n",
       "      <td>0.0</td>\n",
       "      <td>0.0</td>\n",
       "      <td>0.0</td>\n",
       "      <td>0.0</td>\n",
       "      <td>0.0</td>\n",
       "      <td>0.0</td>\n",
       "      <td>0.0</td>\n",
       "      <td>0.0</td>\n",
       "      <td>0.0</td>\n",
       "      <td>0.0</td>\n",
       "      <td>0.0</td>\n",
       "      <td>0.0</td>\n",
       "      <td>0.0</td>\n",
       "      <td>0.0</td>\n",
       "      <td>0.0</td>\n",
       "      <td>0.0</td>\n",
       "      <td>0.0</td>\n",
       "      <td>0.0</td>\n",
       "      <td>0.0</td>\n",
       "      <td>0.0</td>\n",
       "      <td>0.0</td>\n",
       "      <td>0.0</td>\n",
       "      <td>0.0</td>\n",
       "      <td>0.0</td>\n",
       "      <td>0.0</td>\n",
       "      <td>0.0</td>\n",
       "      <td>0.0</td>\n",
       "      <td>0.0</td>\n",
       "      <td>0.0</td>\n",
       "      <td>0.0</td>\n",
       "      <td>0.0</td>\n",
       "      <td>0.0</td>\n",
       "      <td>0.0</td>\n",
       "      <td>0.0</td>\n",
       "      <td>0.0</td>\n",
       "      <td>0.0</td>\n",
       "      <td>4.0</td>\n",
       "    </tr>\n",
       "  </tbody>\n",
       "</table>\n",
       "<p>21892 rows × 188 columns</p>\n",
       "</div>"
      ],
      "text/plain": [
       "            0         1         2         3    ...  184  185  186  187\n",
       "0      1.000000  0.758264  0.111570  0.000000  ...  0.0  0.0  0.0  0.0\n",
       "1      0.908425  0.783883  0.531136  0.362637  ...  0.0  0.0  0.0  0.0\n",
       "2      0.730088  0.212389  0.000000  0.119469  ...  0.0  0.0  0.0  0.0\n",
       "3      1.000000  0.910417  0.681250  0.472917  ...  0.0  0.0  0.0  0.0\n",
       "4      0.570470  0.399329  0.238255  0.147651  ...  0.0  0.0  0.0  0.0\n",
       "...         ...       ...       ...       ...  ...  ...  ...  ...  ...\n",
       "21887  0.928736  0.871264  0.804598  0.742529  ...  0.0  0.0  0.0  4.0\n",
       "21888  0.802691  0.692078  0.587444  0.446936  ...  0.0  0.0  0.0  4.0\n",
       "21889  1.000000  0.967359  0.620178  0.347181  ...  0.0  0.0  0.0  4.0\n",
       "21890  0.984127  0.567460  0.607143  0.583333  ...  0.0  0.0  0.0  4.0\n",
       "21891  0.973970  0.913232  0.865510  0.823210  ...  0.0  0.0  0.0  4.0\n",
       "\n",
       "[21892 rows x 188 columns]"
      ]
     },
     "execution_count": 31,
     "metadata": {
      "tags": []
     },
     "output_type": "execute_result"
    }
   ],
   "source": [
    "test = pd.read_csv(\"/content/mitbih_test.csv\", header=None)\n",
    "test=pd.DataFrame(test)\n",
    "test"
   ]
  },
  {
   "cell_type": "markdown",
   "metadata": {
    "id": "-R5R7OdRIscD"
   },
   "source": [
    "## Data is not Balanced"
   ]
  },
  {
   "cell_type": "code",
   "execution_count": null,
   "metadata": {
    "colab": {
     "base_uri": "https://localhost:8080/"
    },
    "id": "U2h3RwERo3Wz",
    "outputId": "1771c2a0-0eda-4996-d3d1-bdb1ef31dc9a"
   },
   "outputs": [
    {
     "data": {
      "text/plain": [
       "<seaborn.axisgrid.FacetGrid at 0x7f9e70275d50>"
      ]
     },
     "execution_count": 32,
     "metadata": {
      "tags": []
     },
     "output_type": "execute_result"
    },
    {
     "data": {
      "image/png": "[encoded data removed]",
      "text/plain": [
       "<Figure size 360x360 with 1 Axes>"
      ]
     },
     "metadata": {
      "needs_background": "light",
      "tags": []
     },
     "output_type": "display_data"
    }
   ],
   "source": [
    "test[187].value_counts()\n",
    "sns.catplot(x = 187, kind = 'count', data = test)"
   ]
  },
  {
   "cell_type": "markdown",
   "metadata": {
    "id": "xP46BfrUIziA"
   },
   "source": [
    "## Balanced Data"
   ]
  },
  {
   "cell_type": "code",
   "execution_count": null,
   "metadata": {
    "colab": {
     "base_uri": "https://localhost:8080/"
    },
    "id": "cME3d7bMpGmZ",
    "outputId": "09c79bcc-9ad6-460c-c801-ae91a2495fb6"
   },
   "outputs": [
    {
     "data": {
      "text/plain": [
       "<seaborn.axisgrid.FacetGrid at 0x7f9e701cdf10>"
      ]
     },
     "execution_count": 33,
     "metadata": {
      "tags": []
     },
     "output_type": "execute_result"
    },
    {
     "data": {
      "image/png": "[encoded data removed]",
      "text/plain": [
       "<Figure size 360x360 with 1 Axes>"
      ]
     },
     "metadata": {
      "needs_background": "light",
      "tags": []
     },
     "output_type": "display_data"
    }
   ],
   "source": [
    "class_1 = test[test[187]==1.0]\n",
    "class_2 = test[test[187]==2.0]\n",
    "class_3 = test[test[187]==3.0]\n",
    "class_4 = test[test[187]==4.0]\n",
    "class_0 = test[test[187]==0.0].sample(n = 2000)\n",
    "test = pd.concat([class_1, class_2, class_3, class_4, class_0]).sample(frac=1)\n",
    "sns.catplot(x = 187, kind = 'count', data = test)"
   ]
  },
  {
   "cell_type": "markdown",
   "metadata": {
    "id": "twIxmVAfI5nQ"
   },
   "source": [
    "## Data Predication"
   ]
  },
  {
   "cell_type": "code",
   "execution_count": null,
   "metadata": {
    "id": "phz--Qm2pUZT"
   },
   "outputs": [],
   "source": [
    "x_test = test.drop([187], axis=1)\n",
    "y_test = test[187]\n",
    "\n",
    "x_test = np.array(x_test).reshape(x_test.shape[0], x_test.shape[1], 1)"
   ]
  },
  {
   "cell_type": "code",
   "execution_count": null,
   "metadata": {
    "id": "noyuFhl8phSa"
   },
   "outputs": [],
   "source": [
    "ytest_pred1 = model.predict(x_test)\n",
    "ytest_pred2 = model2.predict(x_test)\n",
    "ytest_pred3 = model3.predict(x_test)"
   ]
  },
  {
   "cell_type": "code",
   "execution_count": null,
   "metadata": {
    "colab": {
     "base_uri": "https://localhost:8080/"
    },
    "id": "HRxpUAIJqu1u",
    "outputId": "c3c9642a-bfbe-4372-f232-f4543dc98a2b"
   },
   "outputs": [
    {
     "data": {
      "text/plain": [
       "(5774, 5)"
      ]
     },
     "execution_count": 43,
     "metadata": {
      "tags": []
     },
     "output_type": "execute_result"
    }
   ],
   "source": [
    "ytest_pred1.shape"
   ]
  },
  {
   "cell_type": "code",
   "execution_count": null,
   "metadata": {
    "colab": {
     "base_uri": "https://localhost:8080/"
    },
    "id": "PbEXrCOuqu3q",
    "outputId": "d25b39a0-cc36-464c-e8b7-8fc821fedb13"
   },
   "outputs": [
    {
     "data": {
      "text/plain": [
       "(5774,)"
      ]
     },
     "execution_count": 44,
     "metadata": {
      "tags": []
     },
     "output_type": "execute_result"
    }
   ],
   "source": [
    "y_test.shape"
   ]
  },
  {
   "cell_type": "markdown",
   "metadata": {
    "id": "M7PjFejIJq46"
   },
   "source": [
    "# **Results**"
   ]
  },
  {
   "cell_type": "code",
   "execution_count": null,
   "metadata": {
    "colab": {
     "base_uri": "https://localhost:8080/"
    },
    "id": "NzTZjlqvEXdx",
    "outputId": "f17c6638-e171-4079-baf1-d355426f14e3"
   },
   "outputs": [
    {
     "name": "stdout",
     "output_type": "stream",
     "text": [
      "------- Architecture 1 --------\n",
      "\n",
      "0.9525458953931417\n"
     ]
    }
   ],
   "source": [
    "print(\"------- Architecture 1 --------\\n\")\n",
    "print(accuracy_score(np.argmax(ytest_pred1, axis=1), y_test))"
   ]
  },
  {
   "cell_type": "code",
   "execution_count": null,
   "metadata": {
    "colab": {
     "base_uri": "https://localhost:8080/"
    },
    "id": "EX9Hvabj3itm",
    "outputId": "22e5a4f4-e33b-42a2-f4c9-d5e386d4624b"
   },
   "outputs": [
    {
     "name": "stdout",
     "output_type": "stream",
     "text": [
      "------- Architecture 2 --------\n",
      "\n",
      "0.9560096986491168\n"
     ]
    }
   ],
   "source": [
    "print(\"------- Architecture 2 --------\\n\")\n",
    "print(accuracy_score(np.argmax(ytest_pred2, axis=1), y_test))"
   ]
  },
  {
   "cell_type": "code",
   "execution_count": null,
   "metadata": {
    "colab": {
     "base_uri": "https://localhost:8080/"
    },
    "id": "Ot8VBm_B34oM",
    "outputId": "e7e661b7-0504-40fc-af3d-d38db18e4bd6"
   },
   "outputs": [
    {
     "name": "stdout",
     "output_type": "stream",
     "text": [
      "------- Architecture 3 --------\n",
      "\n",
      "0.9496016626255629\n"
     ]
    }
   ],
   "source": [
    "print(\"------- Architecture 3 --------\\n\")\n",
    "print(accuracy_score(np.argmax(ytest_pred3, axis=1), y_test))"
   ]
  },
  {
   "cell_type": "markdown",
   "metadata": {
    "id": "sSET0gPe4QqT"
   },
   "source": [
    "# **Best Architecture is 2**"
   ]
  },
  {
   "cell_type": "markdown",
   "metadata": {
    "id": "wrRV3QMiJLN9"
   },
   "source": [
    "## Confusion Matrix with Heat Map"
   ]
  },
  {
   "cell_type": "code",
   "execution_count": null,
   "metadata": {
    "colab": {
     "base_uri": "https://localhost:8080/",
     "height": 500
    },
    "id": "_tXYTDDFqu9M",
    "outputId": "7a730914-4c3d-4857-ebe2-176bfdebb396"
   },
   "outputs": [
    {
     "data": {
      "text/plain": [
       "<matplotlib.axes._subplots.AxesSubplot at 0x7f1b38238390>"
      ]
     },
     "execution_count": 54,
     "metadata": {
      "tags": []
     },
     "output_type": "execute_result"
    },
    {
     "data": {
      "image/png": "[encoded data removed]",
      "text/plain": [
       "<Figure size 720x576 with 2 Axes>"
      ]
     },
     "metadata": {
      "tags": []
     },
     "output_type": "display_data"
    }
   ],
   "source": [
    "confusion_matrix(np.argmax(ytest_pred2, axis = 1), y_test)\n",
    "plt.figure(figsize=(10,8))\n",
    "sns.heatmap(confusion_matrix(np.argmax(ytest_pred2, axis =1), y_test), annot = True, fmt = '0.0f', cmap= 'RdPu')"
   ]
  },
  {
   "cell_type": "markdown",
   "metadata": {
    "id": "FBQHcqUeJyg5"
   },
   "source": [
    "## Normalized Confusion Matrix"
   ]
  },
  {
   "cell_type": "code",
   "execution_count": null,
   "metadata": {
    "colab": {
     "base_uri": "https://localhost:8080/",
     "height": 760
    },
    "id": "HHZ-abHgqvCF",
    "outputId": "ac5c180c-e11e-4d78-9a06-980e74479931"
   },
   "outputs": [
    {
     "name": "stdout",
     "output_type": "stream",
     "text": [
      "Normalized confusion matrix\n"
     ]
    },
    {
     "data": {
      "image/png": "[encoded data removed]",
      "text/plain": [
       "<Figure size 2160x720 with 2 Axes>"
      ]
     },
     "metadata": {
      "tags": []
     },
     "output_type": "display_data"
    }
   ],
   "source": [
    "import itertools\n",
    "def plot_confusion_matrix(cm, classes,\n",
    "                          normalize=False,\n",
    "                          title='Confusion matrix',\n",
    "                          cmap=plt.cm.Blues):\n",
    "    \"\"\"\n",
    "    This function prints and plots the confusion matrix.\n",
    "    Normalization can be applied by setting `normalize=True`.\n",
    "    \"\"\"\n",
    "    if normalize:\n",
    "        cm = cm.astype('float') / cm.sum(axis=1)[:, np.newaxis]\n",
    "        print(\"Normalized confusion matrix\")\n",
    "    else:\n",
    "        print('Confusion matrix, without normalization')\n",
    "\n",
    "    plt.imshow(cm, interpolation='nearest', cmap=cmap)\n",
    "    plt.title(title)\n",
    "    plt.colorbar()\n",
    "    tick_marks = np.arange(len(classes))\n",
    "    plt.xticks(tick_marks, classes, rotation=45)\n",
    "    plt.yticks(tick_marks, classes)\n",
    "\n",
    "    fmt = '.2f' if normalize else 'd'\n",
    "    thresh = cm.max() / 2.\n",
    "    for i, j in itertools.product(range(cm.shape[0]), range(cm.shape[1])):\n",
    "        plt.text(j, i, format(cm[i, j], fmt),\n",
    "                 horizontalalignment=\"center\",\n",
    "                 color=\"white\" if cm[i, j] > thresh else \"black\")\n",
    "\n",
    "    plt.tight_layout()\n",
    "    plt.ylabel('True label')\n",
    "    plt.xlabel('Predicted label')\n",
    "\n",
    "# Compute confusion matrix\n",
    "cnf_matrix = confusion_matrix(ytest_pred2.argmax(axis=1), y_test)\n",
    "np.set_printoptions(precision=2)\n",
    "\n",
    "# Plot non-normalized confusion matrix\n",
    "plt.figure(figsize=(30, 10))\n",
    "plot_confusion_matrix(cnf_matrix, classes=['Normal', 'Supraventricular Ectopic Beat', 'Ventricular Ectopic Beat', 'Fusion Beats', 'Unkown Beats'],normalize=True,\n",
    "                      title='Confusion matrix, with normalization')\n",
    "plt.show()"
   ]
  },
  {
   "cell_type": "markdown",
   "metadata": {
    "id": "hyUN4Xs1I-KY"
   },
   "source": [
    "# **Save Model**"
   ]
  },
  {
   "cell_type": "code",
   "execution_count": null,
   "metadata": {
    "id": "CSFD1CFxJAz8"
   },
   "outputs": [],
   "source": [
    "from keras.models import load_model\n",
    "\n",
    "model2.save('model2.h5')"
   ]
  },
  {
   "cell_type": "code",
   "execution_count": null,
   "metadata": {
    "id": "Z_3pYv4RrtHp"
   },
   "outputs": [],
   "source": [
    "!cp \"/content/drive/MyDrive/Colab Notebooks/saved-model/saved-model_1\" -r \"/content\""
   ]
  }
 ],
 "metadata": {
  "accelerator": "GPU",
  "colab": {
   "collapsed_sections": [
    "wSrH4cYjc27m",
    "g0T8J8OTdK_W",
    "rtYOnkQSdWdA",
    "K6mf3j8EEPLf",
    "MXiKKL7VEYio",
    "B1E9fJOIEe2-",
    "0vWonkX8FaML",
    "ZRjVsCQvl6ri",
    "OBftG_D1vszt",
    "pN8eqjV1y4TW",
    "JJnEVzWPIcrp",
    "-R5R7OdRIscD",
    "xP46BfrUIziA"
   ],
   "provenance": []
  },
  "kernelspec": {
   "display_name": "Python 3 (ipykernel)",
   "language": "python",
   "name": "python3"
  },
  "language_info": {
   "codemirror_mode": {
    "name": "ipython",
    "version": 3
   },
   "file_extension": ".py",
   "mimetype": "text/x-python",
   "name": "python",
   "nbconvert_exporter": "python",
   "pygments_lexer": "ipython3",
   "version": "3.11.8"
  }
 },
 "nbformat": 4,
 "nbformat_minor": 4
}
